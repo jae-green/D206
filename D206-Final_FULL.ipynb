{
 "cells": [
  {
   "cell_type": "markdown",
   "id": "605912e3-a29f-49e8-8e4c-6afbc25a07c3",
   "metadata": {
    "tags": []
   },
   "source": [
    "<table>\n",
    "<tr><td>&nbsp;</td></tr>\n",
    "</table>\n",
    "<table>\n",
    "<tr><td>&nbsp;</td></tr>\n",
    "</table>\n",
    "<center><h1><u>D206 - Data Cleaning</u></h1></center>\n",
    "<br>\n",
    "    <center><h4>April 24, 2022</h4></center>\n",
    "    <center><h3>Jessa Green</h3></center>\n",
    "    <center><h4>SID# 71314</h4></center>\n",
    "    <center><h4>Western Governors University</h4></center>\n",
    "\n",
    "\n",
    "<table>\n",
    "<tr><td>&nbsp;</td></tr>\n",
    "</table>\n",
    "<table>\n",
    "<tr><td>&nbsp;</td></tr>\n",
    "</table>\n",
    "<table>\n",
    "<tr><td>&nbsp;</td></tr>\n",
    "</table>"
   ]
  },
  {
   "cell_type": "markdown",
   "id": "351bbd2f-941f-475c-9bb1-2027544ec3fc",
   "metadata": {
    "tags": []
   },
   "source": [
    "# Table of Contents <a name=\"toc\"></a>\n",
    "\n",
    "### Part I: [Research Question and Variables](#pt1)\n",
    "\n",
    "   - A. [Description of Research Question](#a)\n",
    "    \n",
    "   - B. [Description of Data Set Variables](#b)\n",
    " \n",
    "### Part II: [Data-Cleaning Plan](#pt2)\n",
    "\n",
    "   - C1. [Detection Methods](#c1)\n",
    "     \n",
    "   - C2. [Justification for Detection Methods](#c2)\n",
    "     \n",
    "   - C3. [Justification for Program Language](#c4)\n",
    "     \n",
    "   - C4. [Detection Code](#c4)\n",
    "     \n",
    "### Part III: [Data Cleaning Treatment](#pt3)\n",
    "\n",
    "   - D1. [Discussion of Findings](#d1)\n",
    "   \n",
    "   - D2. [Treatment Methods and Justification](#d2)\n",
    "   \n",
    "   - D3. [Summary of Treatment](#d3)\n",
    "   \n",
    "   - D4. [Treatment Code](#d4)\n",
    "   \n",
    "   - D5. [Clean Dataset](#d5)\n",
    "   \n",
    "   - D6. [Limitations](#d6)\n",
    "   \n",
    "   - D7. [Implications](#d7)\n",
    "   \n",
    "   - E1. [Variables and PCA Loadings](#e1)\n",
    "   \n",
    "   - E2. [PCs Selection](#e2)\n",
    "   \n",
    "   - E3. [Benefits](#e3)\n",
    "\n",
    "### Part IV: [Supporting Documents](#pt4)\n",
    "\n",
    "   - F. [Video Demonstration of Code Functionality](#f)\n",
    "   \n",
    "   - G. [Acknowledge Sources](#g)   "
   ]
  },
  {
   "cell_type": "markdown",
   "id": "6f6dbcd3-9423-42f7-aee0-b387e3fc8688",
   "metadata": {},
   "source": [
    "# Part I: Research Question And Variables  <a name=\"pt1\"></a> "
   ]
  },
  {
   "cell_type": "markdown",
   "id": "63825da4-8310-4597-a966-42f9ff79f1c0",
   "metadata": {},
   "source": [
    "## A. Description of Research Question <a name=\"a\"></a> \n",
    "Our telecommunications company wants to reduce churn in order to increase profits and reduce marketing costs by maintaining our current clients. In order to acheive these goals, the research question we want to address, based on our current data set, is:\n",
    "\n",
    "**Which current/active customers in our data set are most likely to discontinue services with us in the near future?**"
   ]
  },
  {
   "cell_type": "markdown",
   "id": "6ef2220d-f494-433f-ab1d-e07762bdf573",
   "metadata": {},
   "source": [
    "## B. Description of Data Set Variables <a name=\"b\"></a> \n",
    "I performed an initial visual inspection of the entire dataset using the provided Churn Data Set Data Dictionary as well as by opening the dataset csv file in Microsoft Excel and by using Python code (see the proceeding cell blocks beneath my provided overview table). "
   ]
  },
  {
   "cell_type": "markdown",
   "id": "3f80f4e3-3550-4b8f-b7b2-ff8aaecf8760",
   "metadata": {},
   "source": [
    "#### Overview of all Variables in Raw Data Set \n",
    "|  Original Name |  New Name |  Data Type |  Variable Type|Description | #Missing | #Unique  | Example or Range  |\n",
    "|:--------------:|:---------:|:----------:|:-------------:|:-----------|---------:|---------:|------------------:|\n",
    "|Unnamed|n/a|int64|UID - not for analysis|DELETED COL - Duplication of CaseOrder column|0|10000|1 - 10000|\n",
    "|CaseOrder|case_order|int64|UID - not for analysis|Index to preserve original order of raw data|0|10000|1 - 10000|\n",
    "|Customer_id|cust_id|object|UID - not for analysis|Unique ID per customer|0|10000|\"K409198, S120509, D90850\"|\n",
    "|Interaction|interaction_id|object|UID - not for analysis|Unique ID per customer transaction|0|10000|aa90260b-4141-4a24-8e36-b04ce1f4f77b|\n",
    "|City|city|object|categorical - nominal|City of customer residence|0|6058|\"Point Baker, West Branch...\"|\n",
    "|State|state|object|categorical - nominal|State of customer residence|0|52|\"AK, MI, OR, CA...\"|\n",
    "|County|county|object|categorical - nominal|County of customer residence|0|1620|\"Ogemaw, Yamhill, San Diego...\"|\n",
    "|Zip|zip|int64|categorical - ordinal|Zip code of customer residence|0|8583|601 - 99929|\n",
    "|Lat|latitude|float64|numeric - continuous|GPS Latitude of customer residence|0|8563|17.96612 - 70.64066|\n",
    "|Lng|longitude|float64|numeric - continuous|GPS Longitude of customer residence|0|8655|-171.68815 - -65.66785|\n",
    "|Population|population|int64|numeric - discrete|Population within one mile radius of customer|0|5933|0 - 111850|\n",
    "|Area|area|object|categorical - nominal|Area type around customer residence|0|3|\"rural, urban, suburban\"|\n",
    "|Timezone|timezone|object|categorical - ordinal|Time Zone of customer residence|0|25|\"Pacific/Honolulu, America/New_York\"|\n",
    "|Job|job|object|categorical - nominal|Job of customer|0|639|\"Comptroller, Paramedic\"|\n",
    "|Children|children|float64|numeric - discrete|Number of children in customer household|2495|12|0 - 10|\n",
    "|Age|age|float64|numeric - discrete|Age of customer when they signed up|2475|73|18 - 89|\n",
    "|Education|education|object|categorical - ordinal|Highest degree earned as reported by customer|0|12|\"Bachelor's Degree, 9th Grade to 12th Grade\"|\n",
    "|Employment|employment|object|categorical - nominal|Employment status as reported by customer|0|5|\"Student, Part Time, Full Time, Retired, Unemployed\"|\n",
    "|Income|income|float64|numeric - continuous|Annual income as reported by customer|2490|7507|740.66 - 258900.7|\n",
    "|Marital|marital|object|categorical - nominal|Marital status as reported by customer|0|5|\"Never Married, Married, Separated, Divorced, Widowed\"|\n",
    "|Gender|gender|object|categorical - nominal|Gender as reported by customer|0|3|\"Male, Female, Prefer not to answer\"|\n",
    "|Churn|churn|object|categorical - nominal|Whether customer discontinued service within last month|0|2|\"Yes, No\"|\n",
    "|Outage_sec_perweek|outage_sec_wk|float64|numeric - continuous|Average # of seconds/week of system outages in customer's area|0|9993|-1.348571 - 47.04928|\n",
    "|Email|email_contact_yr|int64|numeric - discrete|Number of emails sent to customer |0|23|1 - 23|\n",
    "|Contacts|support_reqs_total|int64|numeric - discrete|Number of times customer contacted tech support|0|8|0 - 7|\n",
    "|Yearly_equip_failure|equip_failure_yr|int64|numeric - discrete|Numer of times annually customer's equipment failed|0|6|0 - 6|\n",
    "|Techie|cust_is_techie|object|categorical - nominal|Whether customer considers themselves technically inclined|2477|3|\"Yes, No, NA\"|\n",
    "|Contract|contract_term|object|categorical - nominal|Contract term of the customer|0|3|\"Month-to-month, One year, Two year\"|\n",
    "|Port_modem|portable_modem|object|categorical - nominal|Whether customer has a portable modem|0|2|\"Yes, No\"|\n",
    "|Tablet|tablet|object|categorical - nominal|Whether customer owns a tablet device|0|2|\"Yes, No\"|\n",
    "|InternetService|internet_service|object|categorical - nominal|Customer's internet service provider|0|3|\"DSL, Fiber Optic, None\"|\n",
    "|Phone|phone_service|object|categorical - nominal|Whether the customer has a phone service|1026|3|\"Yes, No, NA\"|\n",
    "|Multiple|multi_ph_lines|object|categorical - nominal|Whether the customer has multiple phone lines|0|2|\"Yes, No\"|\n",
    "|OnlineSecurity|online_security|object|categorical - nominal|Whether the customer has an online security add-on|0|2|\"Yes, No\"|\n",
    "|OnlineBackup|online_backup|object|categorical - nominal|Whether the customer has an online backup add-on|0|2|\"Yes, No\"|\n",
    "|DeviceProtection|device_protection|object|categorical - nominal|Whether the customer has device protection add-on|0|2|\"Yes, No\"|\n",
    "|TechSupport|tech_support|object|categorical - nominal|Whether the customer has a technical support add-on|991|3|\"Yes, No\"|\n",
    "|StreamingTV|streaming_tv|object|categorical - nominal|Whether the customer has streaming TV|0|2|\"Yes, No\"|\n",
    "|StreamingMovies|streaming_movies|object|categorical - nominal|Whether the customer has streaming movies|0|2|\"Yes, No\"|\n",
    "|PaperlessBilling|paperless_bill|object|categorical - nominal|Whether the customer has paperless billing|0|2|\"Yes, No\"|\n",
    "|PaymentMethod|pay_method|object|categorical - nominal|Customer's payment method|0|4|\"Electronic Check, Mailed Check, Bank Transfer(automatic), Credit Card (automatic)\"|\n",
    "|Tenure|tenure|float64|numeric - continuous|Number of months customer has stayed with the provider|931|9066|1.00025934 - 71.99928|\n",
    "|MonthlyCharge|monthly_charge|float64|numeric - continuous|Monthly amount charged to the customer |0|9984|77.50523 - 315.8786|\n",
    "|Bandwidth_GB_Year|bandwidth_gb_yr|float64|numeric - continuous|Average amount of data used annually by customer (in GB)|1021|8973|155.5067148 - 7158.982|\n",
    "|item1|timely_resp|int64|categorical - ordinal|\"Timely response on cust survey (1=most important/8=least important)\"|0|7|1 - 7|\n",
    "|item2|timely_fix|int64|categorical - ordinal|\"Timely fixes on cust survey (1=most important/8=least important)\"|0|7|1 - 7|\n",
    "|item3|timely_replace|int64|categorical - ordinal|\"Timely replacements on cust survey (1=most important/8=least important)\"|0|8|1 - 8|\n",
    "|item4|reliability|int64|categorical - ordinal|\"Reliability on cust survey (1=most important/8=least important)\"|0|7|1 - 7|\n",
    "|item5|options|int64|categorical - ordinal|\"Options on cust survey (1=most important/8=least important)\"|0|7|1 - 7|\n",
    "|item6|respectful|int64|categorical - ordinal|\"Respectful response on cust survey (1=most important/8=least important)\"|0|8|1 - 8|\n",
    "|item7|courteous|int64|categorical - ordinal|\"Courteous exchange on cust survey (1=most important/8=least important)\"|0|7|1 - 7|\n",
    "|item8|active_listening|int64|categorical - ordinal|\"Evidence of active listening on cust survey (1=most important/8=least important)\"|0|8|1 - 8|"
   ]
  },
  {
   "cell_type": "code",
   "execution_count": 2,
   "id": "6e1faea4-e582-4cce-bb03-c7bb9ecc9c63",
   "metadata": {},
   "outputs": [],
   "source": [
    "# Import python libraries / packages for use throughout this notebook\n",
    "import pandas as pd\n",
    "import numpy as np\n",
    "import matplotlib\n",
    "%matplotlib inline\n",
    "from matplotlib import pyplot as plt\n",
    "import scipy.stats as stats\n",
    "import seaborn as sb"
   ]
  },
  {
   "cell_type": "code",
   "execution_count": 3,
   "id": "f3f2b026-1372-47df-b1e1-092dc059ab74",
   "metadata": {},
   "outputs": [
    {
     "data": {
      "text/html": [
       "<div>\n",
       "<style scoped>\n",
       "    .dataframe tbody tr th:only-of-type {\n",
       "        vertical-align: middle;\n",
       "    }\n",
       "\n",
       "    .dataframe tbody tr th {\n",
       "        vertical-align: top;\n",
       "    }\n",
       "\n",
       "    .dataframe thead th {\n",
       "        text-align: right;\n",
       "    }\n",
       "</style>\n",
       "<table border=\"1\" class=\"dataframe\">\n",
       "  <thead>\n",
       "    <tr style=\"text-align: right;\">\n",
       "      <th></th>\n",
       "      <th>Unnamed: 0</th>\n",
       "      <th>CaseOrder</th>\n",
       "      <th>Customer_id</th>\n",
       "      <th>Interaction</th>\n",
       "      <th>City</th>\n",
       "      <th>State</th>\n",
       "      <th>County</th>\n",
       "      <th>Zip</th>\n",
       "      <th>Lat</th>\n",
       "      <th>Lng</th>\n",
       "      <th>...</th>\n",
       "      <th>MonthlyCharge</th>\n",
       "      <th>Bandwidth_GB_Year</th>\n",
       "      <th>item1</th>\n",
       "      <th>item2</th>\n",
       "      <th>item3</th>\n",
       "      <th>item4</th>\n",
       "      <th>item5</th>\n",
       "      <th>item6</th>\n",
       "      <th>item7</th>\n",
       "      <th>item8</th>\n",
       "    </tr>\n",
       "  </thead>\n",
       "  <tbody>\n",
       "    <tr>\n",
       "      <th>0</th>\n",
       "      <td>1</td>\n",
       "      <td>1</td>\n",
       "      <td>K409198</td>\n",
       "      <td>aa90260b-4141-4a24-8e36-b04ce1f4f77b</td>\n",
       "      <td>Point Baker</td>\n",
       "      <td>AK</td>\n",
       "      <td>Prince of Wales-Hyder</td>\n",
       "      <td>99927</td>\n",
       "      <td>56.25100</td>\n",
       "      <td>-133.37571</td>\n",
       "      <td>...</td>\n",
       "      <td>171.449762</td>\n",
       "      <td>904.536110</td>\n",
       "      <td>5</td>\n",
       "      <td>5</td>\n",
       "      <td>5</td>\n",
       "      <td>3</td>\n",
       "      <td>4</td>\n",
       "      <td>4</td>\n",
       "      <td>3</td>\n",
       "      <td>4</td>\n",
       "    </tr>\n",
       "    <tr>\n",
       "      <th>1</th>\n",
       "      <td>2</td>\n",
       "      <td>2</td>\n",
       "      <td>S120509</td>\n",
       "      <td>fb76459f-c047-4a9d-8af9-e0f7d4ac2524</td>\n",
       "      <td>West Branch</td>\n",
       "      <td>MI</td>\n",
       "      <td>Ogemaw</td>\n",
       "      <td>48661</td>\n",
       "      <td>44.32893</td>\n",
       "      <td>-84.24080</td>\n",
       "      <td>...</td>\n",
       "      <td>242.948015</td>\n",
       "      <td>800.982766</td>\n",
       "      <td>3</td>\n",
       "      <td>4</td>\n",
       "      <td>3</td>\n",
       "      <td>3</td>\n",
       "      <td>4</td>\n",
       "      <td>3</td>\n",
       "      <td>4</td>\n",
       "      <td>4</td>\n",
       "    </tr>\n",
       "    <tr>\n",
       "      <th>2</th>\n",
       "      <td>3</td>\n",
       "      <td>3</td>\n",
       "      <td>K191035</td>\n",
       "      <td>344d114c-3736-4be5-98f7-c72c281e2d35</td>\n",
       "      <td>Yamhill</td>\n",
       "      <td>OR</td>\n",
       "      <td>Yamhill</td>\n",
       "      <td>97148</td>\n",
       "      <td>45.35589</td>\n",
       "      <td>-123.24657</td>\n",
       "      <td>...</td>\n",
       "      <td>159.440398</td>\n",
       "      <td>2054.706961</td>\n",
       "      <td>4</td>\n",
       "      <td>4</td>\n",
       "      <td>2</td>\n",
       "      <td>4</td>\n",
       "      <td>4</td>\n",
       "      <td>3</td>\n",
       "      <td>3</td>\n",
       "      <td>3</td>\n",
       "    </tr>\n",
       "    <tr>\n",
       "      <th>3</th>\n",
       "      <td>4</td>\n",
       "      <td>4</td>\n",
       "      <td>D90850</td>\n",
       "      <td>abfa2b40-2d43-4994-b15a-989b8c79e311</td>\n",
       "      <td>Del Mar</td>\n",
       "      <td>CA</td>\n",
       "      <td>San Diego</td>\n",
       "      <td>92014</td>\n",
       "      <td>32.96687</td>\n",
       "      <td>-117.24798</td>\n",
       "      <td>...</td>\n",
       "      <td>120.249493</td>\n",
       "      <td>2164.579412</td>\n",
       "      <td>4</td>\n",
       "      <td>4</td>\n",
       "      <td>4</td>\n",
       "      <td>2</td>\n",
       "      <td>5</td>\n",
       "      <td>4</td>\n",
       "      <td>3</td>\n",
       "      <td>3</td>\n",
       "    </tr>\n",
       "    <tr>\n",
       "      <th>4</th>\n",
       "      <td>5</td>\n",
       "      <td>5</td>\n",
       "      <td>K662701</td>\n",
       "      <td>68a861fd-0d20-4e51-a587-8a90407ee574</td>\n",
       "      <td>Needville</td>\n",
       "      <td>TX</td>\n",
       "      <td>Fort Bend</td>\n",
       "      <td>77461</td>\n",
       "      <td>29.38012</td>\n",
       "      <td>-95.80673</td>\n",
       "      <td>...</td>\n",
       "      <td>150.761216</td>\n",
       "      <td>271.493436</td>\n",
       "      <td>4</td>\n",
       "      <td>4</td>\n",
       "      <td>4</td>\n",
       "      <td>3</td>\n",
       "      <td>4</td>\n",
       "      <td>4</td>\n",
       "      <td>4</td>\n",
       "      <td>5</td>\n",
       "    </tr>\n",
       "  </tbody>\n",
       "</table>\n",
       "<p>5 rows × 52 columns</p>\n",
       "</div>"
      ],
      "text/plain": [
       "   Unnamed: 0  CaseOrder Customer_id                           Interaction  \\\n",
       "0           1          1     K409198  aa90260b-4141-4a24-8e36-b04ce1f4f77b   \n",
       "1           2          2     S120509  fb76459f-c047-4a9d-8af9-e0f7d4ac2524   \n",
       "2           3          3     K191035  344d114c-3736-4be5-98f7-c72c281e2d35   \n",
       "3           4          4      D90850  abfa2b40-2d43-4994-b15a-989b8c79e311   \n",
       "4           5          5     K662701  68a861fd-0d20-4e51-a587-8a90407ee574   \n",
       "\n",
       "          City State                 County    Zip       Lat        Lng  ...  \\\n",
       "0  Point Baker    AK  Prince of Wales-Hyder  99927  56.25100 -133.37571  ...   \n",
       "1  West Branch    MI                 Ogemaw  48661  44.32893  -84.24080  ...   \n",
       "2      Yamhill    OR                Yamhill  97148  45.35589 -123.24657  ...   \n",
       "3      Del Mar    CA              San Diego  92014  32.96687 -117.24798  ...   \n",
       "4    Needville    TX              Fort Bend  77461  29.38012  -95.80673  ...   \n",
       "\n",
       "   MonthlyCharge Bandwidth_GB_Year item1 item2  item3  item4 item5 item6  \\\n",
       "0     171.449762        904.536110     5     5      5      3     4     4   \n",
       "1     242.948015        800.982766     3     4      3      3     4     3   \n",
       "2     159.440398       2054.706961     4     4      2      4     4     3   \n",
       "3     120.249493       2164.579412     4     4      4      2     5     4   \n",
       "4     150.761216        271.493436     4     4      4      3     4     4   \n",
       "\n",
       "   item7 item8  \n",
       "0      3     4  \n",
       "1      4     4  \n",
       "2      3     3  \n",
       "3      3     3  \n",
       "4      4     5  \n",
       "\n",
       "[5 rows x 52 columns]"
      ]
     },
     "execution_count": 3,
     "metadata": {},
     "output_type": "execute_result"
    }
   ],
   "source": [
    "# Read in the Churn Data Set\n",
    "raw_df = pd.read_csv('churn_raw_data.csv')\n",
    "raw_df.head()"
   ]
  },
  {
   "cell_type": "code",
   "execution_count": 4,
   "id": "8ce977a4-933a-4695-8824-30b58e325325",
   "metadata": {},
   "outputs": [
    {
     "data": {
      "text/html": [
       "<div>\n",
       "<style scoped>\n",
       "    .dataframe tbody tr th:only-of-type {\n",
       "        vertical-align: middle;\n",
       "    }\n",
       "\n",
       "    .dataframe tbody tr th {\n",
       "        vertical-align: top;\n",
       "    }\n",
       "\n",
       "    .dataframe thead th {\n",
       "        text-align: right;\n",
       "    }\n",
       "</style>\n",
       "<table border=\"1\" class=\"dataframe\">\n",
       "  <thead>\n",
       "    <tr style=\"text-align: right;\">\n",
       "      <th></th>\n",
       "      <th>Unnamed: 0</th>\n",
       "      <th>CaseOrder</th>\n",
       "      <th>Customer_id</th>\n",
       "      <th>Interaction</th>\n",
       "      <th>City</th>\n",
       "      <th>State</th>\n",
       "      <th>County</th>\n",
       "      <th>Zip</th>\n",
       "      <th>Lat</th>\n",
       "      <th>Lng</th>\n",
       "      <th>...</th>\n",
       "      <th>MonthlyCharge</th>\n",
       "      <th>Bandwidth_GB_Year</th>\n",
       "      <th>item1</th>\n",
       "      <th>item2</th>\n",
       "      <th>item3</th>\n",
       "      <th>item4</th>\n",
       "      <th>item5</th>\n",
       "      <th>item6</th>\n",
       "      <th>item7</th>\n",
       "      <th>item8</th>\n",
       "    </tr>\n",
       "  </thead>\n",
       "  <tbody>\n",
       "    <tr>\n",
       "      <th>9995</th>\n",
       "      <td>9996</td>\n",
       "      <td>9996</td>\n",
       "      <td>M324793</td>\n",
       "      <td>45deb5a2-ae04-4518-bf0b-c82db8dbe4a4</td>\n",
       "      <td>Mount Holly</td>\n",
       "      <td>VT</td>\n",
       "      <td>Rutland</td>\n",
       "      <td>5758</td>\n",
       "      <td>43.43391</td>\n",
       "      <td>-72.78734</td>\n",
       "      <td>...</td>\n",
       "      <td>159.8288</td>\n",
       "      <td>6511.253</td>\n",
       "      <td>3</td>\n",
       "      <td>2</td>\n",
       "      <td>3</td>\n",
       "      <td>3</td>\n",
       "      <td>4</td>\n",
       "      <td>3</td>\n",
       "      <td>2</td>\n",
       "      <td>3</td>\n",
       "    </tr>\n",
       "    <tr>\n",
       "      <th>9996</th>\n",
       "      <td>9997</td>\n",
       "      <td>9997</td>\n",
       "      <td>D861732</td>\n",
       "      <td>6e96b921-0c09-4993-bbda-a1ac6411061a</td>\n",
       "      <td>Clarksville</td>\n",
       "      <td>TN</td>\n",
       "      <td>Montgomery</td>\n",
       "      <td>37042</td>\n",
       "      <td>36.56907</td>\n",
       "      <td>-87.41694</td>\n",
       "      <td>...</td>\n",
       "      <td>208.8564</td>\n",
       "      <td>5695.952</td>\n",
       "      <td>4</td>\n",
       "      <td>5</td>\n",
       "      <td>5</td>\n",
       "      <td>4</td>\n",
       "      <td>4</td>\n",
       "      <td>5</td>\n",
       "      <td>2</td>\n",
       "      <td>5</td>\n",
       "    </tr>\n",
       "    <tr>\n",
       "      <th>9997</th>\n",
       "      <td>9998</td>\n",
       "      <td>9998</td>\n",
       "      <td>I243405</td>\n",
       "      <td>e8307ddf-9a01-4fff-bc59-4742e03fd24f</td>\n",
       "      <td>Mobeetie</td>\n",
       "      <td>TX</td>\n",
       "      <td>Wheeler</td>\n",
       "      <td>79061</td>\n",
       "      <td>35.52039</td>\n",
       "      <td>-100.44180</td>\n",
       "      <td>...</td>\n",
       "      <td>168.2209</td>\n",
       "      <td>4159.306</td>\n",
       "      <td>4</td>\n",
       "      <td>4</td>\n",
       "      <td>4</td>\n",
       "      <td>4</td>\n",
       "      <td>4</td>\n",
       "      <td>4</td>\n",
       "      <td>4</td>\n",
       "      <td>5</td>\n",
       "    </tr>\n",
       "    <tr>\n",
       "      <th>9998</th>\n",
       "      <td>9999</td>\n",
       "      <td>9999</td>\n",
       "      <td>I641617</td>\n",
       "      <td>3775ccfc-0052-4107-81ae-9657f81ecdf3</td>\n",
       "      <td>Carrollton</td>\n",
       "      <td>GA</td>\n",
       "      <td>Carroll</td>\n",
       "      <td>30117</td>\n",
       "      <td>33.58016</td>\n",
       "      <td>-85.13241</td>\n",
       "      <td>...</td>\n",
       "      <td>252.6286</td>\n",
       "      <td>6468.457</td>\n",
       "      <td>4</td>\n",
       "      <td>4</td>\n",
       "      <td>6</td>\n",
       "      <td>4</td>\n",
       "      <td>3</td>\n",
       "      <td>3</td>\n",
       "      <td>5</td>\n",
       "      <td>4</td>\n",
       "    </tr>\n",
       "    <tr>\n",
       "      <th>9999</th>\n",
       "      <td>10000</td>\n",
       "      <td>10000</td>\n",
       "      <td>T38070</td>\n",
       "      <td>9de5fb6e-bd33-4995-aec8-f01d0172a499</td>\n",
       "      <td>Clarkesville</td>\n",
       "      <td>GA</td>\n",
       "      <td>Habersham</td>\n",
       "      <td>30523</td>\n",
       "      <td>34.70783</td>\n",
       "      <td>-83.53648</td>\n",
       "      <td>...</td>\n",
       "      <td>218.3710</td>\n",
       "      <td>5857.586</td>\n",
       "      <td>2</td>\n",
       "      <td>2</td>\n",
       "      <td>3</td>\n",
       "      <td>3</td>\n",
       "      <td>3</td>\n",
       "      <td>3</td>\n",
       "      <td>4</td>\n",
       "      <td>1</td>\n",
       "    </tr>\n",
       "  </tbody>\n",
       "</table>\n",
       "<p>5 rows × 52 columns</p>\n",
       "</div>"
      ],
      "text/plain": [
       "      Unnamed: 0  CaseOrder Customer_id                           Interaction  \\\n",
       "9995        9996       9996     M324793  45deb5a2-ae04-4518-bf0b-c82db8dbe4a4   \n",
       "9996        9997       9997     D861732  6e96b921-0c09-4993-bbda-a1ac6411061a   \n",
       "9997        9998       9998     I243405  e8307ddf-9a01-4fff-bc59-4742e03fd24f   \n",
       "9998        9999       9999     I641617  3775ccfc-0052-4107-81ae-9657f81ecdf3   \n",
       "9999       10000      10000      T38070  9de5fb6e-bd33-4995-aec8-f01d0172a499   \n",
       "\n",
       "              City State      County    Zip       Lat        Lng  ...  \\\n",
       "9995   Mount Holly    VT     Rutland   5758  43.43391  -72.78734  ...   \n",
       "9996   Clarksville    TN  Montgomery  37042  36.56907  -87.41694  ...   \n",
       "9997      Mobeetie    TX     Wheeler  79061  35.52039 -100.44180  ...   \n",
       "9998    Carrollton    GA     Carroll  30117  33.58016  -85.13241  ...   \n",
       "9999  Clarkesville    GA   Habersham  30523  34.70783  -83.53648  ...   \n",
       "\n",
       "      MonthlyCharge Bandwidth_GB_Year item1 item2  item3  item4 item5 item6  \\\n",
       "9995       159.8288          6511.253     3     2      3      3     4     3   \n",
       "9996       208.8564          5695.952     4     5      5      4     4     5   \n",
       "9997       168.2209          4159.306     4     4      4      4     4     4   \n",
       "9998       252.6286          6468.457     4     4      6      4     3     3   \n",
       "9999       218.3710          5857.586     2     2      3      3     3     3   \n",
       "\n",
       "      item7 item8  \n",
       "9995      2     3  \n",
       "9996      2     5  \n",
       "9997      4     5  \n",
       "9998      5     4  \n",
       "9999      4     1  \n",
       "\n",
       "[5 rows x 52 columns]"
      ]
     },
     "execution_count": 4,
     "metadata": {},
     "output_type": "execute_result"
    }
   ],
   "source": [
    "raw_df.tail()"
   ]
  },
  {
   "cell_type": "code",
   "execution_count": 5,
   "id": "488e19f6-9fad-4822-99fa-37329e6ee177",
   "metadata": {},
   "outputs": [
    {
     "name": "stdout",
     "output_type": "stream",
     "text": [
      "<class 'pandas.core.frame.DataFrame'>\n",
      "RangeIndex: 10000 entries, 0 to 9999\n",
      "Data columns (total 52 columns):\n",
      " #   Column                Non-Null Count  Dtype  \n",
      "---  ------                --------------  -----  \n",
      " 0   Unnamed: 0            10000 non-null  int64  \n",
      " 1   CaseOrder             10000 non-null  int64  \n",
      " 2   Customer_id           10000 non-null  object \n",
      " 3   Interaction           10000 non-null  object \n",
      " 4   City                  10000 non-null  object \n",
      " 5   State                 10000 non-null  object \n",
      " 6   County                10000 non-null  object \n",
      " 7   Zip                   10000 non-null  int64  \n",
      " 8   Lat                   10000 non-null  float64\n",
      " 9   Lng                   10000 non-null  float64\n",
      " 10  Population            10000 non-null  int64  \n",
      " 11  Area                  10000 non-null  object \n",
      " 12  Timezone              10000 non-null  object \n",
      " 13  Job                   10000 non-null  object \n",
      " 14  Children              7505 non-null   float64\n",
      " 15  Age                   7525 non-null   float64\n",
      " 16  Education             10000 non-null  object \n",
      " 17  Employment            10000 non-null  object \n",
      " 18  Income                7510 non-null   float64\n",
      " 19  Marital               10000 non-null  object \n",
      " 20  Gender                10000 non-null  object \n",
      " 21  Churn                 10000 non-null  object \n",
      " 22  Outage_sec_perweek    10000 non-null  float64\n",
      " 23  Email                 10000 non-null  int64  \n",
      " 24  Contacts              10000 non-null  int64  \n",
      " 25  Yearly_equip_failure  10000 non-null  int64  \n",
      " 26  Techie                7523 non-null   object \n",
      " 27  Contract              10000 non-null  object \n",
      " 28  Port_modem            10000 non-null  object \n",
      " 29  Tablet                10000 non-null  object \n",
      " 30  InternetService       10000 non-null  object \n",
      " 31  Phone                 8974 non-null   object \n",
      " 32  Multiple              10000 non-null  object \n",
      " 33  OnlineSecurity        10000 non-null  object \n",
      " 34  OnlineBackup          10000 non-null  object \n",
      " 35  DeviceProtection      10000 non-null  object \n",
      " 36  TechSupport           9009 non-null   object \n",
      " 37  StreamingTV           10000 non-null  object \n",
      " 38  StreamingMovies       10000 non-null  object \n",
      " 39  PaperlessBilling      10000 non-null  object \n",
      " 40  PaymentMethod         10000 non-null  object \n",
      " 41  Tenure                9069 non-null   float64\n",
      " 42  MonthlyCharge         10000 non-null  float64\n",
      " 43  Bandwidth_GB_Year     8979 non-null   float64\n",
      " 44  item1                 10000 non-null  int64  \n",
      " 45  item2                 10000 non-null  int64  \n",
      " 46  item3                 10000 non-null  int64  \n",
      " 47  item4                 10000 non-null  int64  \n",
      " 48  item5                 10000 non-null  int64  \n",
      " 49  item6                 10000 non-null  int64  \n",
      " 50  item7                 10000 non-null  int64  \n",
      " 51  item8                 10000 non-null  int64  \n",
      "dtypes: float64(9), int64(15), object(28)\n",
      "memory usage: 4.0+ MB\n"
     ]
    }
   ],
   "source": [
    "raw_df.info()"
   ]
  },
  {
   "cell_type": "markdown",
   "id": "9d88b9c8-8c7e-4d5c-8735-26c3f73d4ab5",
   "metadata": {},
   "source": [
    "[(return to TOC)](#toc)\n",
    "# Part II: Data-Cleaning Plan  <a name=\"pt2\"></a> \n",
    "## C. Explain the plan for cleaning the data by doing the following:"
   ]
  },
  {
   "cell_type": "markdown",
   "id": "c080f7a4-6b3d-4ec2-a89b-d3453fb9e32e",
   "metadata": {},
   "source": [
    "### C1. Detection Methods <a name=\"c1\"></a> \n",
    "Propose a plan that includes the relevant techniques and specific steps needed to identify anomalies in the data set. *The proposal includes a detailed description of the techniques and steps needed for identifying anomalies in the selected data set.*\n",
    "\n",
    "**Discuss what methods you used to detect duplicates, missing values, outliers, and any other data quality issues.  In this section discuss re-expressed variables (if used).  Remember, you need to detect outliers for all quantitative variables.**"
   ]
  },
  {
   "cell_type": "markdown",
   "id": "2091881a-1703-45db-9401-e928acb72f57",
   "metadata": {},
   "source": [
    "According to research by Larose and Larose (2019), some of the key steps in data preparation before exploration and use with modeling and algorithms include adding an index field, identifying and handling duplicates, outliers, and missing data, transforming and standardizing the data, binning numerical variables, and reclassifying categorical variables. I'll reserve the latter three items for Part III of this process, since those come after the detected issues (duplicates, outliers, and missing data) are treated.\n",
    "\n",
    "**Initial Cleaning Steps**\n",
    "\n",
    "To start, while not listed in the above 'data prep' list, I chose to rename the dataset columns in order to standardize naming and improve comprehension (see code C4a). All other treatments will be handled in Part III under Treatments, but for ease of communication and to reduce confusion, I performed this at the start of this project. Going forward, I will refer to all columns by their \"New Name\" from the overview table provided in Section B. Also, our data set already has the index `case_order` provided, which was specified in the Data Dictionary provided with the data set. We also had several data types that are inappropriate for the type of information stored in those columns, which seem clear when reviewing standard practice for data cleaning.\n",
    "\n",
    "- Findings:\n",
    "    - `zip` datatype is int64, should be string\n",
    "    - `children` is float, should be int64\n",
    "    - `age` is float, should be int64\n",
    "    - `age` also is a relatively invalid attribute, since that number becomes outdated within one year and is no longer really usable. Should have gathered DOB, not age\n",
    "    - `monthly_charge` should have a decimal restriction of 2, since this is a money field\n",
    "    - `state` has 52 unique values, should only be 50\n",
    "\n",
    "**Duplicates**\n",
    "\n",
    "From my visual inspection in Section B, it appeared that `case_order` had a duplicate column, `Unnamed: 0`. This was confirmed utilizing a python function (see code section C4b). Following that, additional code was run to check for duplicate rows across the entire data set, as well as checking specifically for duplicate customer IDs and checking for records that might imply duplicated customer records with differing ID numbers by utilizing the `subset` keyword in the `duplicated()` method.\n",
    "\n",
    "- Findings:\n",
    "    - It appears there are no duplicated records in our data set\n",
    "\n",
    "**Missing Data**\n",
    "- Review each attribute with missing values to identify what/why\n",
    "- Check invalid category values in categorical attributes\n",
    "    - `state` has 52 category values because they included \"DC\" and \"PR\" along with the 50 states, so no change required\n",
    "    - \n",
    "\n",
    "**Outliers**\n",
    "\n",
    "Outliers were next on my list to address (section C4c below). I chose to address outliers before missing data so that any form of imputation on the missing data wouldn't be inappropriately impacted by outliers. According to Pandas documentation (How Do I Select a Subset of a DataFrame?, n.d.), I created a subset `numeric_subset_df` of the numeric attributes in the data set. From that subset, I used the `.describe()` method, followed by a histogram plot of each numeric attribute. I noticed in the stats descriptions that the `outage_sec_wk` attribute had a min value of a negative amount, which is impossible, since there cannot be a negative amount of outage time.\n",
    "\n",
    "- Findings:\n",
    "    - Negative value(s) in the `outage_sec_wk` column\n",
    "    - `zip` as int64 has values with less than the minimum 5 characters required of all US zip codes\n",
    "    - No other outliers seem to be errors nor unnatural, and not so far out as to inflict large shifts to the dataset overall\n",
    "\n",
    "\n",
    "\n",
    "This is in Part III (after detection of dirty/messy data)\n",
    "- transforming and standardizing the data:\n",
    "- binning numerical variables\n",
    "- reclassifying categorical variables"
   ]
  },
  {
   "cell_type": "code",
   "execution_count": null,
   "id": "5e85abf2-093f-4f60-aff3-a88fddb4cb03",
   "metadata": {},
   "outputs": [],
   "source": []
  },
  {
   "cell_type": "code",
   "execution_count": null,
   "id": "b1e32866-84a4-457e-b91a-8577548eeec1",
   "metadata": {},
   "outputs": [],
   "source": []
  },
  {
   "cell_type": "code",
   "execution_count": null,
   "id": "74b2472d-051d-4ef3-b042-57ffc0878da9",
   "metadata": {},
   "outputs": [],
   "source": []
  },
  {
   "cell_type": "code",
   "execution_count": null,
   "id": "eceb8be5-5779-459d-88d2-0a885eb09e72",
   "metadata": {},
   "outputs": [],
   "source": []
  },
  {
   "cell_type": "code",
   "execution_count": null,
   "id": "bd753a40-e203-46b9-99c7-2e5a1e55efbe",
   "metadata": {},
   "outputs": [],
   "source": []
  },
  {
   "cell_type": "markdown",
   "id": "3be6bab6-d08a-4f52-bfe0-6930d524ae3e",
   "metadata": {},
   "source": [
    "### C2. Justification for Detection Methods <a name=\"c2\"></a> \n",
    "Justify your approach for assessing the quality of the data, include:\n",
    "- characteristics of the data being assessed\n",
    "- the approach used to assess the quality of the data\n",
    "- ensure approach aligns with this data set\n",
    "\n",
    "**Discuss why you selected the methods discussed in C1. Use credible sources (i.e. course textbook) to support your why!**\n",
    "\n",
    "Outliers:  \n",
    "- Z-Scores - generally only safe with normal distributions, so avoided this method as most are not normally "
   ]
  },
  {
   "cell_type": "markdown",
   "id": "b9612bc6-68aa-462c-bb4d-e9927697324f",
   "metadata": {},
   "source": [
    "|  Anomaly    | Strategy    | Objective     | Technique     |\n",
    "|------------|-----------|-----------|------------------|\n"
   ]
  },
  {
   "cell_type": "markdown",
   "id": "326948cd-b16a-4d1e-9fe3-972b5efa6f15",
   "metadata": {},
   "source": [
    "### C3. Justification for Program Language <a name=\"c3\"></a> \n",
    "Justify your selected programming language and any libraries and packages that will support the data-cleaning process. *The justification describes the benefits of using the programming language, including any libraries and packages used to clean the data, and includes specific examples of how these tools are ideal in this scenario as opposed to other available tools.*\n",
    "\n",
    "**Discuss what programming language you used to clean your data (including libraries and packages) and why.**"
   ]
  },
  {
   "cell_type": "markdown",
   "id": "713e4819-3876-4358-80c0-2487bfab7910",
   "metadata": {},
   "source": [
    "| Library                      | Application                                                             |\n",
    "|------------------------------|-------------------------------------------------------------------------|\n",
    "| Pandas | DataFrames |\n",
    "| NumPy |  "
   ]
  },
  {
   "cell_type": "markdown",
   "id": "c76d4f81-231c-4a29-92d1-3d403130cb14",
   "metadata": {},
   "source": [
    "### C4. Detection Code <a name=\"c4\"></a> \n",
    "Provide the complete and executable code you will use to identify the anomalies in the data.\n",
    "\n",
    "**Provide the code (no screenshots) used to detect duplicates, missing values, outliers (all numeric values that are related to customer/patient), and any other data cleaning matters. Remember, you need to detect outliers for all quantitative variables.**"
   ]
  },
  {
   "cell_type": "markdown",
   "id": "088a7b4a-0657-45b2-be3c-2585f03ff88c",
   "metadata": {},
   "source": [
    "#### C4a - Initial Cleaning Needs"
   ]
  },
  {
   "cell_type": "code",
   "execution_count": 6,
   "id": "bf38befa-63ba-4c29-8e4b-b05e738d6c80",
   "metadata": {
    "collapsed": true,
    "jupyter": {
     "outputs_hidden": true
    },
    "tags": []
   },
   "outputs": [
    {
     "name": "stdout",
     "output_type": "stream",
     "text": [
      "<class 'pandas.core.frame.DataFrame'>\n",
      "RangeIndex: 10000 entries, 0 to 9999\n",
      "Data columns (total 52 columns):\n",
      " #   Column              Non-Null Count  Dtype  \n",
      "---  ------              --------------  -----  \n",
      " 0   Unnamed: 0          10000 non-null  int64  \n",
      " 1   case_order          10000 non-null  int64  \n",
      " 2   cust_id             10000 non-null  object \n",
      " 3   interaction_id      10000 non-null  object \n",
      " 4   city                10000 non-null  object \n",
      " 5   state               10000 non-null  object \n",
      " 6   county              10000 non-null  object \n",
      " 7   zip                 10000 non-null  int64  \n",
      " 8   latitude            10000 non-null  float64\n",
      " 9   longitude           10000 non-null  float64\n",
      " 10  population          10000 non-null  int64  \n",
      " 11  area                10000 non-null  object \n",
      " 12  timezone            10000 non-null  object \n",
      " 13  job                 10000 non-null  object \n",
      " 14  children            7505 non-null   float64\n",
      " 15  age                 7525 non-null   float64\n",
      " 16  education           10000 non-null  object \n",
      " 17  employment          10000 non-null  object \n",
      " 18  income              7510 non-null   float64\n",
      " 19  marital             10000 non-null  object \n",
      " 20  gender              10000 non-null  object \n",
      " 21  churn               10000 non-null  object \n",
      " 22  outage_sec_wk       10000 non-null  float64\n",
      " 23  email_contact_yr    10000 non-null  int64  \n",
      " 24  support_reqs_total  10000 non-null  int64  \n",
      " 25  equip_failure_yr    10000 non-null  int64  \n",
      " 26  cust_is_techie      7523 non-null   object \n",
      " 27  contract_term       10000 non-null  object \n",
      " 28  portable_modem      10000 non-null  object \n",
      " 29  tablet              10000 non-null  object \n",
      " 30  internet_service    10000 non-null  object \n",
      " 31  phone_service       8974 non-null   object \n",
      " 32  multi_ph_lines      10000 non-null  object \n",
      " 33  online_security     10000 non-null  object \n",
      " 34  online_backup       10000 non-null  object \n",
      " 35  device_protection   10000 non-null  object \n",
      " 36  tech_support        9009 non-null   object \n",
      " 37  streaming_tv        10000 non-null  object \n",
      " 38  streaming_movies    10000 non-null  object \n",
      " 39  paperless_bill      10000 non-null  object \n",
      " 40  pay_method          10000 non-null  object \n",
      " 41  tenure              9069 non-null   float64\n",
      " 42  monthly_charge      10000 non-null  float64\n",
      " 43  bandwidth_gb_yr     8979 non-null   float64\n",
      " 44  timely_resp         10000 non-null  int64  \n",
      " 45  timely_fix          10000 non-null  int64  \n",
      " 46  timely_replace      10000 non-null  int64  \n",
      " 47  reliability         10000 non-null  int64  \n",
      " 48  options             10000 non-null  int64  \n",
      " 49  respectful          10000 non-null  int64  \n",
      " 50  courteous           10000 non-null  int64  \n",
      " 51  active_listening    10000 non-null  int64  \n",
      "dtypes: float64(9), int64(15), object(28)\n",
      "memory usage: 4.0+ MB\n"
     ]
    }
   ],
   "source": [
    "# Rename columns based on Overview Table \"New Names\" listed above\n",
    "col_renaming = {'CaseOrder': 'case_order',\n",
    "                'Customer_id': 'cust_id',\n",
    "                'Interaction': 'interaction_id',\n",
    "                'City': 'city',\n",
    "                'State': 'state',\n",
    "                'County': 'county',\n",
    "                'Zip': 'zip',\n",
    "                'Lat': 'latitude',\n",
    "                'Lng': 'longitude',\n",
    "                'Population': 'population',\n",
    "                'Area': 'area',\n",
    "                'Timezone': 'timezone',\n",
    "                'Job': 'job',\n",
    "                'Children': 'children',\n",
    "                'Age': 'age',\n",
    "                'Education': 'education',\n",
    "                'Employment': 'employment',\n",
    "                'Income': 'income',\n",
    "                'Marital': 'marital',\n",
    "                'Gender': 'gender',\n",
    "                'Churn': 'churn',\n",
    "                'Outage_sec_perweek': 'outage_sec_wk',\n",
    "                'Email': 'email_contact_yr',\n",
    "                'Contacts': 'support_reqs_total',\n",
    "                'Yearly_equip_failure': 'equip_failure_yr',\n",
    "                'Techie': 'cust_is_techie',\n",
    "                'Contract': 'contract_term',\n",
    "                'Port_modem': 'portable_modem',\n",
    "                'Tablet': 'tablet',\n",
    "                'InternetService': 'internet_service',\n",
    "                'Phone': 'phone_service',\n",
    "                'Multiple': 'multi_ph_lines',\n",
    "                'OnlineSecurity': 'online_security',\n",
    "                'OnlineBackup': 'online_backup',\n",
    "                'DeviceProtection': 'device_protection',\n",
    "                'TechSupport': 'tech_support',\n",
    "                'StreamingTV': 'streaming_tv',\n",
    "                'StreamingMovies': 'streaming_movies',\n",
    "                'PaperlessBilling': 'paperless_bill',\n",
    "                'PaymentMethod': 'pay_method',\n",
    "                'Tenure': 'tenure',\n",
    "                'MonthlyCharge': 'monthly_charge',\n",
    "                'Bandwidth_GB_Year': 'bandwidth_gb_yr',\n",
    "                'item1': 'timely_resp',\n",
    "                'item2': 'timely_fix',\n",
    "                'item3': 'timely_replace',\n",
    "                'item4': 'reliability',\n",
    "                'item5': 'options',\n",
    "                'item6': 'respectful',\n",
    "                'item7': 'courteous',\n",
    "                'item8': 'active_listening'}\n",
    "\n",
    "raw_df.rename(columns=col_renaming, inplace=True)\n",
    "\n",
    "raw_df.info()"
   ]
  },
  {
   "cell_type": "code",
   "execution_count": 38,
   "id": "4f9195a0-807e-4e5e-adc8-bad9f4c64214",
   "metadata": {
    "collapsed": true,
    "jupyter": {
     "outputs_hidden": true
    },
    "tags": []
   },
   "outputs": [
    {
     "data": {
      "text/plain": [
       "['AK',\n",
       " 'AL',\n",
       " 'AR',\n",
       " 'AZ',\n",
       " 'CA',\n",
       " 'CO',\n",
       " 'CT',\n",
       " 'DC',\n",
       " 'DE',\n",
       " 'FL',\n",
       " 'GA',\n",
       " 'HI',\n",
       " 'IA',\n",
       " 'ID',\n",
       " 'IL',\n",
       " 'IN',\n",
       " 'KS',\n",
       " 'KY',\n",
       " 'LA',\n",
       " 'MA',\n",
       " 'MD',\n",
       " 'ME',\n",
       " 'MI',\n",
       " 'MN',\n",
       " 'MO',\n",
       " 'MS',\n",
       " 'MT',\n",
       " 'NC',\n",
       " 'ND',\n",
       " 'NE',\n",
       " 'NH',\n",
       " 'NJ',\n",
       " 'NM',\n",
       " 'NV',\n",
       " 'NY',\n",
       " 'OH',\n",
       " 'OK',\n",
       " 'OR',\n",
       " 'PA',\n",
       " 'PR',\n",
       " 'RI',\n",
       " 'SC',\n",
       " 'SD',\n",
       " 'TN',\n",
       " 'TX',\n",
       " 'UT',\n",
       " 'VA',\n",
       " 'VT',\n",
       " 'WA',\n",
       " 'WI',\n",
       " 'WV',\n",
       " 'WY']"
      ]
     },
     "execution_count": 38,
     "metadata": {},
     "output_type": "execute_result"
    }
   ],
   "source": [
    "# Find all unique state names listed to identify the \"extra 2\"\n",
    "sorted(raw_df.state.unique())\n"
   ]
  },
  {
   "cell_type": "markdown",
   "id": "6c0cc61e-01ed-4ae5-9627-616c6e7cc3c4",
   "metadata": {},
   "source": [
    "**The two \"extra\" states include 'DC' and 'PR' which are legally part of the US, just not typically listed as \"states\".**"
   ]
  },
  {
   "cell_type": "code",
   "execution_count": null,
   "id": "befcb44e-dca0-4596-b9ab-cb889fc1cc12",
   "metadata": {},
   "outputs": [],
   "source": []
  },
  {
   "cell_type": "code",
   "execution_count": null,
   "id": "94f3de8c-6804-4d2d-a474-178d7452b563",
   "metadata": {},
   "outputs": [],
   "source": []
  },
  {
   "cell_type": "code",
   "execution_count": null,
   "id": "906100cd-0945-40d2-a9ed-32b9c50b6278",
   "metadata": {},
   "outputs": [],
   "source": []
  },
  {
   "cell_type": "markdown",
   "id": "851876b6-13f7-4a2c-9284-dda2ce4c742b",
   "metadata": {},
   "source": [
    "#### C4b - Detect Duplicates (columns and rows)"
   ]
  },
  {
   "cell_type": "markdown",
   "id": "1450cfe3-ee8c-4a31-8d45-75fd89755c89",
   "metadata": {},
   "source": [
    "Using visual comparisons, the first column (Unnamed: 0) seemed out of place and visually it appeared that the column's contents were identical (duplicate) to the CaseOrder column. I then built a function to do a full check to compare the columns and identify exact duplication."
   ]
  },
  {
   "cell_type": "code",
   "execution_count": 7,
   "id": "6eb8d69a-ec06-4711-b110-0e08796e716b",
   "metadata": {},
   "outputs": [
    {
     "name": "stdout",
     "output_type": "stream",
     "text": [
      "Duplicated Columns in Data Set:\n",
      "{'Unnamed: 0': 'case_order'}\n"
     ]
    }
   ],
   "source": [
    "# Define a function to compare all columns and identify full-column duplication\n",
    "# Code concept from Geeks4Geeks website. See source in Section G\n",
    "\n",
    "def FindDupCols(df):\n",
    "    dup_cols = {}\n",
    "    for columns in range(df.shape[1]):\n",
    "        col1 = df.iloc[:, columns]\n",
    "        for other_cols in range(columns + 1, df.shape[1]):\n",
    "            col2 = df.iloc[:, other_cols]\n",
    "            if col1.equals(col2):\n",
    "                col1_name = df.columns.values[columns]\n",
    "                col2_key = df.columns.values[other_cols]\n",
    "                dup_cols[col1_name]=(col2_key)\n",
    "    return dup_cols\n",
    "\n",
    "\n",
    "# Run the function against our raw dataframe to identify any duplicate columns\n",
    "\n",
    "dup_cols = FindDupCols(raw_df)\n",
    "print(\"Duplicated Columns in Data Set:\")\n",
    "print(dup_cols)"
   ]
  },
  {
   "cell_type": "markdown",
   "id": "628b6c90-f131-42e8-8d46-f38b8541e49b",
   "metadata": {},
   "source": [
    "**The above column `Unnamed: 0` will be removed during the Section III: Treatment stage.**"
   ]
  },
  {
   "cell_type": "code",
   "execution_count": 8,
   "id": "e589b9c9-1576-4090-9ded-a6b481c192e1",
   "metadata": {},
   "outputs": [
    {
     "data": {
      "text/html": [
       "<div>\n",
       "<style scoped>\n",
       "    .dataframe tbody tr th:only-of-type {\n",
       "        vertical-align: middle;\n",
       "    }\n",
       "\n",
       "    .dataframe tbody tr th {\n",
       "        vertical-align: top;\n",
       "    }\n",
       "\n",
       "    .dataframe thead th {\n",
       "        text-align: right;\n",
       "    }\n",
       "</style>\n",
       "<table border=\"1\" class=\"dataframe\">\n",
       "  <thead>\n",
       "    <tr style=\"text-align: right;\">\n",
       "      <th></th>\n",
       "      <th>Unnamed: 0</th>\n",
       "      <th>case_order</th>\n",
       "      <th>cust_id</th>\n",
       "      <th>interaction_id</th>\n",
       "      <th>city</th>\n",
       "      <th>state</th>\n",
       "      <th>county</th>\n",
       "      <th>zip</th>\n",
       "      <th>latitude</th>\n",
       "      <th>longitude</th>\n",
       "      <th>...</th>\n",
       "      <th>monthly_charge</th>\n",
       "      <th>bandwidth_gb_yr</th>\n",
       "      <th>timely_resp</th>\n",
       "      <th>timely_fix</th>\n",
       "      <th>timely_replace</th>\n",
       "      <th>reliability</th>\n",
       "      <th>options</th>\n",
       "      <th>respectful</th>\n",
       "      <th>courteous</th>\n",
       "      <th>active_listening</th>\n",
       "    </tr>\n",
       "  </thead>\n",
       "  <tbody>\n",
       "  </tbody>\n",
       "</table>\n",
       "<p>0 rows × 52 columns</p>\n",
       "</div>"
      ],
      "text/plain": [
       "Empty DataFrame\n",
       "Columns: [Unnamed: 0, case_order, cust_id, interaction_id, city, state, county, zip, latitude, longitude, population, area, timezone, job, children, age, education, employment, income, marital, gender, churn, outage_sec_wk, email_contact_yr, support_reqs_total, equip_failure_yr, cust_is_techie, contract_term, portable_modem, tablet, internet_service, phone_service, multi_ph_lines, online_security, online_backup, device_protection, tech_support, streaming_tv, streaming_movies, paperless_bill, pay_method, tenure, monthly_charge, bandwidth_gb_yr, timely_resp, timely_fix, timely_replace, reliability, options, respectful, courteous, active_listening]\n",
       "Index: []\n",
       "\n",
       "[0 rows x 52 columns]"
      ]
     },
     "execution_count": 8,
     "metadata": {},
     "output_type": "execute_result"
    }
   ],
   "source": [
    "# Check for identical rows across the dataset\n",
    "duplicate_rows = raw_df.duplicated(keep=False)\n",
    "raw_df[duplicate_rows]"
   ]
  },
  {
   "cell_type": "markdown",
   "id": "1c24973e-00ce-4082-ac08-75e928745440",
   "metadata": {},
   "source": [
    "**We found no identical rows, so let's check for duplicate customer_id values**"
   ]
  },
  {
   "cell_type": "code",
   "execution_count": 9,
   "id": "9a6b32c9-3c19-4cc3-a69f-20546899bf40",
   "metadata": {},
   "outputs": [
    {
     "data": {
      "text/html": [
       "<div>\n",
       "<style scoped>\n",
       "    .dataframe tbody tr th:only-of-type {\n",
       "        vertical-align: middle;\n",
       "    }\n",
       "\n",
       "    .dataframe tbody tr th {\n",
       "        vertical-align: top;\n",
       "    }\n",
       "\n",
       "    .dataframe thead th {\n",
       "        text-align: right;\n",
       "    }\n",
       "</style>\n",
       "<table border=\"1\" class=\"dataframe\">\n",
       "  <thead>\n",
       "    <tr style=\"text-align: right;\">\n",
       "      <th></th>\n",
       "      <th>Unnamed: 0</th>\n",
       "      <th>case_order</th>\n",
       "      <th>cust_id</th>\n",
       "      <th>interaction_id</th>\n",
       "      <th>city</th>\n",
       "      <th>state</th>\n",
       "      <th>county</th>\n",
       "      <th>zip</th>\n",
       "      <th>latitude</th>\n",
       "      <th>longitude</th>\n",
       "      <th>...</th>\n",
       "      <th>monthly_charge</th>\n",
       "      <th>bandwidth_gb_yr</th>\n",
       "      <th>timely_resp</th>\n",
       "      <th>timely_fix</th>\n",
       "      <th>timely_replace</th>\n",
       "      <th>reliability</th>\n",
       "      <th>options</th>\n",
       "      <th>respectful</th>\n",
       "      <th>courteous</th>\n",
       "      <th>active_listening</th>\n",
       "    </tr>\n",
       "  </thead>\n",
       "  <tbody>\n",
       "  </tbody>\n",
       "</table>\n",
       "<p>0 rows × 52 columns</p>\n",
       "</div>"
      ],
      "text/plain": [
       "Empty DataFrame\n",
       "Columns: [Unnamed: 0, case_order, cust_id, interaction_id, city, state, county, zip, latitude, longitude, population, area, timezone, job, children, age, education, employment, income, marital, gender, churn, outage_sec_wk, email_contact_yr, support_reqs_total, equip_failure_yr, cust_is_techie, contract_term, portable_modem, tablet, internet_service, phone_service, multi_ph_lines, online_security, online_backup, device_protection, tech_support, streaming_tv, streaming_movies, paperless_bill, pay_method, tenure, monthly_charge, bandwidth_gb_yr, timely_resp, timely_fix, timely_replace, reliability, options, respectful, courteous, active_listening]\n",
       "Index: []\n",
       "\n",
       "[0 rows x 52 columns]"
      ]
     },
     "execution_count": 9,
     "metadata": {},
     "output_type": "execute_result"
    }
   ],
   "source": [
    "# Check for duplicate customer IDs\n",
    "duplicate_rows = raw_df.duplicated(subset='cust_id', keep=False)\n",
    "raw_df[duplicate_rows]"
   ]
  },
  {
   "cell_type": "markdown",
   "id": "cbbb46ff-05d5-4584-b296-7daff7123629",
   "metadata": {},
   "source": [
    "**We can see there aren't any duplicated customer ID's in our dataset either**"
   ]
  },
  {
   "cell_type": "code",
   "execution_count": 10,
   "id": "db910fd8-eca0-4b37-ab14-4ae7c9e94661",
   "metadata": {},
   "outputs": [
    {
     "data": {
      "text/html": [
       "<div>\n",
       "<style scoped>\n",
       "    .dataframe tbody tr th:only-of-type {\n",
       "        vertical-align: middle;\n",
       "    }\n",
       "\n",
       "    .dataframe tbody tr th {\n",
       "        vertical-align: top;\n",
       "    }\n",
       "\n",
       "    .dataframe thead th {\n",
       "        text-align: right;\n",
       "    }\n",
       "</style>\n",
       "<table border=\"1\" class=\"dataframe\">\n",
       "  <thead>\n",
       "    <tr style=\"text-align: right;\">\n",
       "      <th></th>\n",
       "      <th>Unnamed: 0</th>\n",
       "      <th>case_order</th>\n",
       "      <th>cust_id</th>\n",
       "      <th>interaction_id</th>\n",
       "      <th>city</th>\n",
       "      <th>state</th>\n",
       "      <th>county</th>\n",
       "      <th>zip</th>\n",
       "      <th>latitude</th>\n",
       "      <th>longitude</th>\n",
       "      <th>...</th>\n",
       "      <th>monthly_charge</th>\n",
       "      <th>bandwidth_gb_yr</th>\n",
       "      <th>timely_resp</th>\n",
       "      <th>timely_fix</th>\n",
       "      <th>timely_replace</th>\n",
       "      <th>reliability</th>\n",
       "      <th>options</th>\n",
       "      <th>respectful</th>\n",
       "      <th>courteous</th>\n",
       "      <th>active_listening</th>\n",
       "    </tr>\n",
       "  </thead>\n",
       "  <tbody>\n",
       "  </tbody>\n",
       "</table>\n",
       "<p>0 rows × 52 columns</p>\n",
       "</div>"
      ],
      "text/plain": [
       "Empty DataFrame\n",
       "Columns: [Unnamed: 0, case_order, cust_id, interaction_id, city, state, county, zip, latitude, longitude, population, area, timezone, job, children, age, education, employment, income, marital, gender, churn, outage_sec_wk, email_contact_yr, support_reqs_total, equip_failure_yr, cust_is_techie, contract_term, portable_modem, tablet, internet_service, phone_service, multi_ph_lines, online_security, online_backup, device_protection, tech_support, streaming_tv, streaming_movies, paperless_bill, pay_method, tenure, monthly_charge, bandwidth_gb_yr, timely_resp, timely_fix, timely_replace, reliability, options, respectful, courteous, active_listening]\n",
       "Index: []\n",
       "\n",
       "[0 rows x 52 columns]"
      ]
     },
     "execution_count": 10,
     "metadata": {},
     "output_type": "execute_result"
    }
   ],
   "source": [
    "# Check for rows that are identical EXCEPT for customer ID, which could mean one customer was assigned multiple IDs\n",
    "column_names = ['city', 'state', 'zip', 'job', 'children', 'gender', 'employment', 'income', 'cust_is_techie', 'contract_term', 'monthly_charge']\n",
    "duplicate_rows = raw_df.duplicated(subset=column_names, keep=False)\n",
    "raw_df[duplicate_rows]"
   ]
  },
  {
   "cell_type": "markdown",
   "id": "32810a14-31ff-4968-bfb5-278ee37bc1b9",
   "metadata": {},
   "source": [
    "**Based on the above duplicate checks, I have strong confidence customer record duplication does not exist within the dataset.**"
   ]
  },
  {
   "cell_type": "code",
   "execution_count": null,
   "id": "0fe20d81-9bbf-4055-9446-c5e47108d115",
   "metadata": {},
   "outputs": [],
   "source": []
  },
  {
   "cell_type": "code",
   "execution_count": null,
   "id": "6e7e69ff-5f63-4692-9156-1d24da49db6b",
   "metadata": {},
   "outputs": [],
   "source": []
  },
  {
   "cell_type": "code",
   "execution_count": null,
   "id": "73647f76-0fd3-4118-b242-cc26757a4a10",
   "metadata": {},
   "outputs": [],
   "source": []
  },
  {
   "cell_type": "markdown",
   "id": "870f3031-47b5-482d-8d0d-49b621f8418e",
   "metadata": {},
   "source": [
    "#### C4c - Detect Outliers"
   ]
  },
  {
   "cell_type": "code",
   "execution_count": 20,
   "id": "f9031b2d-2097-4de4-b3b2-fa5618bcad2c",
   "metadata": {},
   "outputs": [
    {
     "data": {
      "text/html": [
       "<div>\n",
       "<style scoped>\n",
       "    .dataframe tbody tr th:only-of-type {\n",
       "        vertical-align: middle;\n",
       "    }\n",
       "\n",
       "    .dataframe tbody tr th {\n",
       "        vertical-align: top;\n",
       "    }\n",
       "\n",
       "    .dataframe thead th {\n",
       "        text-align: right;\n",
       "    }\n",
       "</style>\n",
       "<table border=\"1\" class=\"dataframe\">\n",
       "  <thead>\n",
       "    <tr style=\"text-align: right;\">\n",
       "      <th></th>\n",
       "      <th>zip</th>\n",
       "      <th>latitude</th>\n",
       "      <th>longitude</th>\n",
       "      <th>population</th>\n",
       "      <th>children</th>\n",
       "      <th>age</th>\n",
       "      <th>income</th>\n",
       "      <th>outage_sec_wk</th>\n",
       "      <th>email_contact_yr</th>\n",
       "      <th>support_reqs_total</th>\n",
       "      <th>equip_failure_yr</th>\n",
       "      <th>tenure</th>\n",
       "      <th>monthly_charge</th>\n",
       "      <th>bandwidth_gb_yr</th>\n",
       "    </tr>\n",
       "  </thead>\n",
       "  <tbody>\n",
       "    <tr>\n",
       "      <th>0</th>\n",
       "      <td>99927</td>\n",
       "      <td>56.25100</td>\n",
       "      <td>-133.37571</td>\n",
       "      <td>38</td>\n",
       "      <td>NaN</td>\n",
       "      <td>68.0</td>\n",
       "      <td>28561.99</td>\n",
       "      <td>6.972566</td>\n",
       "      <td>10</td>\n",
       "      <td>0</td>\n",
       "      <td>1</td>\n",
       "      <td>6.795513</td>\n",
       "      <td>171.449762</td>\n",
       "      <td>904.536110</td>\n",
       "    </tr>\n",
       "    <tr>\n",
       "      <th>1</th>\n",
       "      <td>48661</td>\n",
       "      <td>44.32893</td>\n",
       "      <td>-84.24080</td>\n",
       "      <td>10446</td>\n",
       "      <td>1.0</td>\n",
       "      <td>27.0</td>\n",
       "      <td>21704.77</td>\n",
       "      <td>12.014541</td>\n",
       "      <td>12</td>\n",
       "      <td>0</td>\n",
       "      <td>1</td>\n",
       "      <td>1.156681</td>\n",
       "      <td>242.948015</td>\n",
       "      <td>800.982766</td>\n",
       "    </tr>\n",
       "    <tr>\n",
       "      <th>2</th>\n",
       "      <td>97148</td>\n",
       "      <td>45.35589</td>\n",
       "      <td>-123.24657</td>\n",
       "      <td>3735</td>\n",
       "      <td>4.0</td>\n",
       "      <td>50.0</td>\n",
       "      <td>NaN</td>\n",
       "      <td>10.245616</td>\n",
       "      <td>9</td>\n",
       "      <td>0</td>\n",
       "      <td>1</td>\n",
       "      <td>15.754144</td>\n",
       "      <td>159.440398</td>\n",
       "      <td>2054.706961</td>\n",
       "    </tr>\n",
       "    <tr>\n",
       "      <th>3</th>\n",
       "      <td>92014</td>\n",
       "      <td>32.96687</td>\n",
       "      <td>-117.24798</td>\n",
       "      <td>13863</td>\n",
       "      <td>1.0</td>\n",
       "      <td>48.0</td>\n",
       "      <td>18925.23</td>\n",
       "      <td>15.206193</td>\n",
       "      <td>15</td>\n",
       "      <td>2</td>\n",
       "      <td>0</td>\n",
       "      <td>17.087227</td>\n",
       "      <td>120.249493</td>\n",
       "      <td>2164.579412</td>\n",
       "    </tr>\n",
       "    <tr>\n",
       "      <th>4</th>\n",
       "      <td>77461</td>\n",
       "      <td>29.38012</td>\n",
       "      <td>-95.80673</td>\n",
       "      <td>11352</td>\n",
       "      <td>0.0</td>\n",
       "      <td>83.0</td>\n",
       "      <td>40074.19</td>\n",
       "      <td>8.960316</td>\n",
       "      <td>16</td>\n",
       "      <td>2</td>\n",
       "      <td>1</td>\n",
       "      <td>1.670972</td>\n",
       "      <td>150.761216</td>\n",
       "      <td>271.493436</td>\n",
       "    </tr>\n",
       "  </tbody>\n",
       "</table>\n",
       "</div>"
      ],
      "text/plain": [
       "     zip  latitude  longitude  population  children   age    income  \\\n",
       "0  99927  56.25100 -133.37571          38       NaN  68.0  28561.99   \n",
       "1  48661  44.32893  -84.24080       10446       1.0  27.0  21704.77   \n",
       "2  97148  45.35589 -123.24657        3735       4.0  50.0       NaN   \n",
       "3  92014  32.96687 -117.24798       13863       1.0  48.0  18925.23   \n",
       "4  77461  29.38012  -95.80673       11352       0.0  83.0  40074.19   \n",
       "\n",
       "   outage_sec_wk  email_contact_yr  support_reqs_total  equip_failure_yr  \\\n",
       "0       6.972566                10                   0                 1   \n",
       "1      12.014541                12                   0                 1   \n",
       "2      10.245616                 9                   0                 1   \n",
       "3      15.206193                15                   2                 0   \n",
       "4       8.960316                16                   2                 1   \n",
       "\n",
       "      tenure  monthly_charge  bandwidth_gb_yr  \n",
       "0   6.795513      171.449762       904.536110  \n",
       "1   1.156681      242.948015       800.982766  \n",
       "2  15.754144      159.440398      2054.706961  \n",
       "3  17.087227      120.249493      2164.579412  \n",
       "4   1.670972      150.761216       271.493436  "
      ]
     },
     "execution_count": 20,
     "metadata": {},
     "output_type": "execute_result"
    }
   ],
   "source": [
    "# Create a subset of the data set with only the numeric columns for further numeric analysis (outliers and missing data)\n",
    "numeric_subset_df = raw_df[['zip','latitude', 'longitude', 'population', 'children', 'age', 'income', 'outage_sec_wk', \n",
    "                            'email_contact_yr', 'support_reqs_total', 'equip_failure_yr', 'tenure', 'monthly_charge', \n",
    "                            'bandwidth_gb_yr']]\n",
    "numeric_subset_df.head()"
   ]
  },
  {
   "cell_type": "code",
   "execution_count": 21,
   "id": "c0cee3ac-f5e5-40c2-999d-e7fc38b39a39",
   "metadata": {},
   "outputs": [
    {
     "data": {
      "text/html": [
       "<div>\n",
       "<style scoped>\n",
       "    .dataframe tbody tr th:only-of-type {\n",
       "        vertical-align: middle;\n",
       "    }\n",
       "\n",
       "    .dataframe tbody tr th {\n",
       "        vertical-align: top;\n",
       "    }\n",
       "\n",
       "    .dataframe thead th {\n",
       "        text-align: right;\n",
       "    }\n",
       "</style>\n",
       "<table border=\"1\" class=\"dataframe\">\n",
       "  <thead>\n",
       "    <tr style=\"text-align: right;\">\n",
       "      <th></th>\n",
       "      <th>zip</th>\n",
       "      <th>latitude</th>\n",
       "      <th>longitude</th>\n",
       "      <th>population</th>\n",
       "      <th>children</th>\n",
       "      <th>age</th>\n",
       "      <th>income</th>\n",
       "      <th>outage_sec_wk</th>\n",
       "      <th>email_contact_yr</th>\n",
       "      <th>support_reqs_total</th>\n",
       "      <th>equip_failure_yr</th>\n",
       "      <th>tenure</th>\n",
       "      <th>monthly_charge</th>\n",
       "      <th>bandwidth_gb_yr</th>\n",
       "    </tr>\n",
       "  </thead>\n",
       "  <tbody>\n",
       "    <tr>\n",
       "      <th>count</th>\n",
       "      <td>10000.000000</td>\n",
       "      <td>10000.000000</td>\n",
       "      <td>10000.000000</td>\n",
       "      <td>10000.000000</td>\n",
       "      <td>7505.000000</td>\n",
       "      <td>7525.000000</td>\n",
       "      <td>7510.000000</td>\n",
       "      <td>10000.000000</td>\n",
       "      <td>10000.000000</td>\n",
       "      <td>10000.000000</td>\n",
       "      <td>10000.000000</td>\n",
       "      <td>9069.000000</td>\n",
       "      <td>10000.000000</td>\n",
       "      <td>8979.000000</td>\n",
       "    </tr>\n",
       "    <tr>\n",
       "      <th>mean</th>\n",
       "      <td>49153.319600</td>\n",
       "      <td>38.757567</td>\n",
       "      <td>-90.782536</td>\n",
       "      <td>9756.562400</td>\n",
       "      <td>2.095936</td>\n",
       "      <td>53.275748</td>\n",
       "      <td>39936.762226</td>\n",
       "      <td>11.452955</td>\n",
       "      <td>12.016000</td>\n",
       "      <td>0.994200</td>\n",
       "      <td>0.398000</td>\n",
       "      <td>34.498858</td>\n",
       "      <td>174.076305</td>\n",
       "      <td>3398.842752</td>\n",
       "    </tr>\n",
       "    <tr>\n",
       "      <th>std</th>\n",
       "      <td>27532.196108</td>\n",
       "      <td>5.437389</td>\n",
       "      <td>15.156142</td>\n",
       "      <td>14432.698671</td>\n",
       "      <td>2.154758</td>\n",
       "      <td>20.753928</td>\n",
       "      <td>28358.469482</td>\n",
       "      <td>7.025921</td>\n",
       "      <td>3.025898</td>\n",
       "      <td>0.988466</td>\n",
       "      <td>0.635953</td>\n",
       "      <td>26.438904</td>\n",
       "      <td>43.335473</td>\n",
       "      <td>2187.396807</td>\n",
       "    </tr>\n",
       "    <tr>\n",
       "      <th>min</th>\n",
       "      <td>601.000000</td>\n",
       "      <td>17.966120</td>\n",
       "      <td>-171.688150</td>\n",
       "      <td>0.000000</td>\n",
       "      <td>0.000000</td>\n",
       "      <td>18.000000</td>\n",
       "      <td>740.660000</td>\n",
       "      <td>-1.348571</td>\n",
       "      <td>1.000000</td>\n",
       "      <td>0.000000</td>\n",
       "      <td>0.000000</td>\n",
       "      <td>1.000259</td>\n",
       "      <td>77.505230</td>\n",
       "      <td>155.506715</td>\n",
       "    </tr>\n",
       "    <tr>\n",
       "      <th>25%</th>\n",
       "      <td>26292.500000</td>\n",
       "      <td>35.341828</td>\n",
       "      <td>-97.082812</td>\n",
       "      <td>738.000000</td>\n",
       "      <td>0.000000</td>\n",
       "      <td>35.000000</td>\n",
       "      <td>19285.522500</td>\n",
       "      <td>8.054362</td>\n",
       "      <td>10.000000</td>\n",
       "      <td>0.000000</td>\n",
       "      <td>0.000000</td>\n",
       "      <td>7.890442</td>\n",
       "      <td>141.071078</td>\n",
       "      <td>1234.110529</td>\n",
       "    </tr>\n",
       "    <tr>\n",
       "      <th>50%</th>\n",
       "      <td>48869.500000</td>\n",
       "      <td>39.395800</td>\n",
       "      <td>-87.918800</td>\n",
       "      <td>2910.500000</td>\n",
       "      <td>1.000000</td>\n",
       "      <td>53.000000</td>\n",
       "      <td>33186.785000</td>\n",
       "      <td>10.202896</td>\n",
       "      <td>12.000000</td>\n",
       "      <td>1.000000</td>\n",
       "      <td>0.000000</td>\n",
       "      <td>36.196030</td>\n",
       "      <td>169.915400</td>\n",
       "      <td>3382.424000</td>\n",
       "    </tr>\n",
       "    <tr>\n",
       "      <th>75%</th>\n",
       "      <td>71866.500000</td>\n",
       "      <td>42.106908</td>\n",
       "      <td>-80.088745</td>\n",
       "      <td>13168.000000</td>\n",
       "      <td>3.000000</td>\n",
       "      <td>71.000000</td>\n",
       "      <td>53472.395000</td>\n",
       "      <td>12.487644</td>\n",
       "      <td>14.000000</td>\n",
       "      <td>2.000000</td>\n",
       "      <td>1.000000</td>\n",
       "      <td>61.426670</td>\n",
       "      <td>203.777441</td>\n",
       "      <td>5587.096500</td>\n",
       "    </tr>\n",
       "    <tr>\n",
       "      <th>max</th>\n",
       "      <td>99929.000000</td>\n",
       "      <td>70.640660</td>\n",
       "      <td>-65.667850</td>\n",
       "      <td>111850.000000</td>\n",
       "      <td>10.000000</td>\n",
       "      <td>89.000000</td>\n",
       "      <td>258900.700000</td>\n",
       "      <td>47.049280</td>\n",
       "      <td>23.000000</td>\n",
       "      <td>7.000000</td>\n",
       "      <td>6.000000</td>\n",
       "      <td>71.999280</td>\n",
       "      <td>315.878600</td>\n",
       "      <td>7158.982000</td>\n",
       "    </tr>\n",
       "  </tbody>\n",
       "</table>\n",
       "</div>"
      ],
      "text/plain": [
       "                zip      latitude     longitude     population     children  \\\n",
       "count  10000.000000  10000.000000  10000.000000   10000.000000  7505.000000   \n",
       "mean   49153.319600     38.757567    -90.782536    9756.562400     2.095936   \n",
       "std    27532.196108      5.437389     15.156142   14432.698671     2.154758   \n",
       "min      601.000000     17.966120   -171.688150       0.000000     0.000000   \n",
       "25%    26292.500000     35.341828    -97.082812     738.000000     0.000000   \n",
       "50%    48869.500000     39.395800    -87.918800    2910.500000     1.000000   \n",
       "75%    71866.500000     42.106908    -80.088745   13168.000000     3.000000   \n",
       "max    99929.000000     70.640660    -65.667850  111850.000000    10.000000   \n",
       "\n",
       "               age         income  outage_sec_wk  email_contact_yr  \\\n",
       "count  7525.000000    7510.000000   10000.000000      10000.000000   \n",
       "mean     53.275748   39936.762226      11.452955         12.016000   \n",
       "std      20.753928   28358.469482       7.025921          3.025898   \n",
       "min      18.000000     740.660000      -1.348571          1.000000   \n",
       "25%      35.000000   19285.522500       8.054362         10.000000   \n",
       "50%      53.000000   33186.785000      10.202896         12.000000   \n",
       "75%      71.000000   53472.395000      12.487644         14.000000   \n",
       "max      89.000000  258900.700000      47.049280         23.000000   \n",
       "\n",
       "       support_reqs_total  equip_failure_yr       tenure  monthly_charge  \\\n",
       "count        10000.000000      10000.000000  9069.000000    10000.000000   \n",
       "mean             0.994200          0.398000    34.498858      174.076305   \n",
       "std              0.988466          0.635953    26.438904       43.335473   \n",
       "min              0.000000          0.000000     1.000259       77.505230   \n",
       "25%              0.000000          0.000000     7.890442      141.071078   \n",
       "50%              1.000000          0.000000    36.196030      169.915400   \n",
       "75%              2.000000          1.000000    61.426670      203.777441   \n",
       "max              7.000000          6.000000    71.999280      315.878600   \n",
       "\n",
       "       bandwidth_gb_yr  \n",
       "count      8979.000000  \n",
       "mean       3398.842752  \n",
       "std        2187.396807  \n",
       "min         155.506715  \n",
       "25%        1234.110529  \n",
       "50%        3382.424000  \n",
       "75%        5587.096500  \n",
       "max        7158.982000  "
      ]
     },
     "execution_count": 21,
     "metadata": {},
     "output_type": "execute_result"
    }
   ],
   "source": [
    "# Use the .describe method to visualize the core statistics for each numeric attribute in the data set\n",
    "numeric_subset_df.describe()"
   ]
  },
  {
   "cell_type": "code",
   "execution_count": 13,
   "id": "4c10ef9d-894e-4fdf-8679-0396663214c5",
   "metadata": {},
   "outputs": [
    {
     "data": {
      "image/png": "[encoded data removed]",
      "text/plain": [
       "<Figure size 1080x1080 with 16 Axes>"
      ]
     },
     "metadata": {
      "needs_background": "light"
     },
     "output_type": "display_data"
    }
   ],
   "source": [
    "# View histograms of numeric attribures to visually identify potential outliers - check for extreme values beyond skew\n",
    "import matplotlib.pyplot as plt\n",
    "\n",
    "numeric_subset_df.hist(figsize=(15,15));"
   ]
  },
  {
   "cell_type": "markdown",
   "id": "ea895470-458d-4c21-97c0-6a77c72efa31",
   "metadata": {},
   "source": [
    "> **Boxplots great for finding ranges and outliers**"
   ]
  },
  {
   "cell_type": "code",
   "execution_count": 14,
   "id": "dd07e382-3055-4e3d-9ccc-0bb4bed4b426",
   "metadata": {},
   "outputs": [
    {
     "data": {
      "image/png": "[encoded data removed]",
      "text/plain": [
       "<Figure size 1080x216 with 1 Axes>"
      ]
     },
     "metadata": {
      "needs_background": "light"
     },
     "output_type": "display_data"
    }
   ],
   "source": [
    "# Boxplot for income\n",
    "plt.figure(figsize = (15,3))\n",
    "boxplot = sb.boxplot(x='income', data=raw_df)"
   ]
  },
  {
   "cell_type": "code",
   "execution_count": 15,
   "id": "2a96cb1c-36fe-4c36-bce3-64e299d02ac2",
   "metadata": {},
   "outputs": [
    {
     "data": {
      "image/png": "[encoded data removed]",
      "text/plain": [
       "<Figure size 1080x216 with 1 Axes>"
      ]
     },
     "metadata": {
      "needs_background": "light"
     },
     "output_type": "display_data"
    }
   ],
   "source": [
    "# Boxplot for monthly_charge\n",
    "plt.figure(figsize = (15,3))\n",
    "boxplot = sb.boxplot(x='monthly_charge', data=raw_df)"
   ]
  },
  {
   "cell_type": "code",
   "execution_count": 16,
   "id": "78d8d195-7ca1-44b8-9a56-f562334c3107",
   "metadata": {},
   "outputs": [
    {
     "data": {
      "image/png": "[encoded data removed]",
      "text/plain": [
       "<Figure size 1080x216 with 1 Axes>"
      ]
     },
     "metadata": {
      "needs_background": "light"
     },
     "output_type": "display_data"
    }
   ],
   "source": [
    "# Boxplot for support_reqs_total\n",
    "plt.figure(figsize = (15,3))\n",
    "boxplot = sb.boxplot(x='support_reqs_total', data=raw_df)"
   ]
  },
  {
   "cell_type": "code",
   "execution_count": 17,
   "id": "fa603173-3646-44a5-b246-c785fd64874a",
   "metadata": {},
   "outputs": [
    {
     "data": {
      "image/png": "[encoded data removed]",
      "text/plain": [
       "<Figure size 1080x216 with 1 Axes>"
      ]
     },
     "metadata": {
      "needs_background": "light"
     },
     "output_type": "display_data"
    }
   ],
   "source": [
    "# Boxplot for equip_failure_yr\n",
    "plt.figure(figsize = (15,3))\n",
    "boxplot = sb.boxplot(x='equip_failure_yr', data=raw_df)"
   ]
  },
  {
   "cell_type": "code",
   "execution_count": null,
   "id": "34c84d4b-b3e8-45f6-bf7f-c341be63a088",
   "metadata": {},
   "outputs": [],
   "source": []
  },
  {
   "cell_type": "markdown",
   "id": "32ab1439-1203-4484-b410-879d2e91196a",
   "metadata": {},
   "source": [
    "> You need to know volume (HOW MANY?) and value of them. From there you can specify what actions to take on them:\n",
    "> Remove/Retain/Exclude/Replace\n"
   ]
  },
  {
   "cell_type": "markdown",
   "id": "18d3caf3-f4c8-47c4-a9a9-e098e5ac4de9",
   "metadata": {},
   "source": [
    "#### Detect Missing Data"
   ]
  },
  {
   "cell_type": "code",
   "execution_count": 17,
   "id": "675d8653-f69d-48f0-8af7-aa5dc2b25fb9",
   "metadata": {},
   "outputs": [
    {
     "data": {
      "text/plain": [
       "latitude                 0\n",
       "longitude                0\n",
       "population               0\n",
       "children              2495\n",
       "age                   2475\n",
       "income                2490\n",
       "outage_sec_wk            0\n",
       "email_contact_yr         0\n",
       "support_reqs_total       0\n",
       "equip_failure_yr         0\n",
       "tenure                 931\n",
       "monthly_charge           0\n",
       "bandwidth_gb_yr       1021\n",
       "dtype: int64"
      ]
     },
     "execution_count": 17,
     "metadata": {},
     "output_type": "execute_result"
    }
   ],
   "source": [
    "numeric_subset_df.isnull().sum()"
   ]
  },
  {
   "cell_type": "code",
   "execution_count": 18,
   "id": "e08f7732-db0b-43d1-a258-fbfecdae5726",
   "metadata": {},
   "outputs": [
    {
     "data": {
      "image/png": "[encoded data removed]",
      "text/plain": [
       "<Figure size 1080x1080 with 16 Axes>"
      ]
     },
     "metadata": {
      "needs_background": "light"
     },
     "output_type": "display_data"
    }
   ],
   "source": [
    "# C4c\n",
    "# View histograms of numeric attribures to visually identify potentially misleading values (odd values for missing data)\n",
    "import matplotlib.pyplot as plt\n",
    "\n",
    "numeric_subset_df.hist(figsize=(15,15));"
   ]
  },
  {
   "cell_type": "code",
   "execution_count": 20,
   "id": "465a9839-2bc9-4943-be9f-3e2d952b3402",
   "metadata": {},
   "outputs": [
    {
     "name": "stdout",
     "output_type": "stream",
     "text": [
      "6.242131     2\n",
      "15.015440    2\n",
      "12.130800    2\n",
      "12.107050    2\n",
      "10.344120    2\n",
      "10.768330    2\n",
      "11.791120    2\n",
      "40.314560    1\n",
      "47.027660    1\n",
      "10.859420    1\n",
      "Name: outage_sec_wk, dtype: int64\n"
     ]
    }
   ],
   "source": [
    "# Check outage_sec_wk to see if the bi-nomial distribution is due to a misleading value\n",
    "print(numeric_subset_df['outage_sec_wk'].value_counts().head(10))"
   ]
  },
  {
   "cell_type": "markdown",
   "id": "6425526a-0f85-4daf-bce9-1ebb637de081",
   "metadata": {},
   "source": [
    "#### Examine the Distribution"
   ]
  },
  {
   "cell_type": "markdown",
   "id": "83717807-79b4-473c-95d2-a35a921c1aba",
   "metadata": {},
   "source": [
    "> **if skewed, use median for impute**\n",
    "\n",
    "> **if normal dist, use mean**"
   ]
  },
  {
   "cell_type": "markdown",
   "id": "b467523e-d2db-42b9-aa37-08658ff7f451",
   "metadata": {},
   "source": [
    "#### Part II:\n",
    "1) Examine ENTIRE dataset (every column, all values)\n",
    "2) Detection of:\n",
    "   - a) Duplicates\n",
    "   - b) Missing Values\n",
    "   - c) Outliers (check for outliers in ALL numeric variables)\n",
    "\n",
    "#### Part III:\n",
    "3) Treatment of:\n",
    "   - a) Duplicates\n",
    "   - b) Missing Values\n",
    "   - c) Outliers (check for outliers in ALL numeric variables)\n",
    "4) Re-express Categorical variables\n",
    "5) Perform PCA (numeric only)\n",
    "6) Extract clean dataset once cleaning is complete"
   ]
  },
  {
   "cell_type": "code",
   "execution_count": null,
   "id": "b1bcab71-9292-489b-83bc-82ecc3eeab6b",
   "metadata": {},
   "outputs": [],
   "source": []
  },
  {
   "cell_type": "markdown",
   "id": "15a193e2-e9cc-4c99-a7c7-8b9df3d56929",
   "metadata": {},
   "source": [
    "[(return to TOC)](#toc)\n",
    "# Part III: Data Cleaning <a name=\"pt3\"></a> \n",
    "## D. Summarize the data-cleaning process by doing the following:"
   ]
  },
  {
   "cell_type": "markdown",
   "id": "72b37136-e42a-4d42-86df-b93a52c1dcf7",
   "metadata": {},
   "source": [
    "### D1. Discussion of Findings <a name=\"d1\"></a> \n",
    "Describe the findings, including all anomalies, from the implementation of the data-cleaning plan & code run from part C.\n",
    "\n",
    "**Discuss what you found after you checked for missing values, outliers, etc.  For example, which variables did you find missing values? How many values were missing? What variables did you find outliers? How many outliers did you find?  What were the values of those outliers?!**"
   ]
  },
  {
   "cell_type": "markdown",
   "id": "a17a4aae-651d-489b-a91b-52d24601d67e",
   "metadata": {},
   "source": [
    "| Column             | Findings                             |\n",
    "|:--------------------|:----------------------------------------|"
   ]
  },
  {
   "cell_type": "markdown",
   "id": "8225be60-0bde-4361-87e4-38fbf554b440",
   "metadata": {},
   "source": [
    "### D2. Treatment Methods and Justification <a name=\"d2\"></a> \n",
    "Justify your methods for mitigating each type of discovered anomaly in the data set. *The justification includes the specific mitigation methods for each type of anomaly listed in part D1.*\n",
    "\n",
    "**Discuss how you treated the data quality issues you referenced in D1.  Discuss why you used the treatment methods you selected.  Use credible sources (i.e. course textbook) to support your why. Be very specific on why and how you treated each variable in which you found data quality concerns. Use visualizations as the evaluators are only reviewing the Panopto video to ensure code functionality.**"
   ]
  },
  {
   "cell_type": "markdown",
   "id": "e89acdbc-21ee-4cdc-bbf5-5f18c722725c",
   "metadata": {},
   "source": [
    "| Column       | Mitigation            | Justification   |\n",
    "|--------------|:-----------------------|:--------------------\n"
   ]
  },
  {
   "cell_type": "markdown",
   "id": "9a30829f-c853-4ee1-9e2b-3ba209b5c7ae",
   "metadata": {},
   "source": [
    "### D3. Summary of Treatment <a name=\"d3\"></a> \n",
    "Summarize the outcome from the implementation of each data-cleaning step. Discuss HOW and WHY of your treatment. *The summary details the outcome from the implementation of each data-cleaning step. The summarized expected outcomes are plausible given the interventions.*\n",
    "\n",
    "**Summarize all the work that was performed.  Discuss how your data looks now that it has been treated.  Provide evidence and visualizations confirming the data is cleaned**"
   ]
  },
  {
   "cell_type": "markdown",
   "id": "ff27bd97-0274-4a9c-8527-97648ef6c087",
   "metadata": {},
   "source": [
    "### D4. Treatment Code <a name=\"d4\"></a> \n",
    "Provide the complete and executable code used to mitigate anomalies."
   ]
  },
  {
   "cell_type": "code",
   "execution_count": 21,
   "id": "b4c209dc-64ab-4923-bf6a-9dd8c9d1b984",
   "metadata": {},
   "outputs": [
    {
     "name": "stderr",
     "output_type": "stream",
     "text": [
      "/var/folders/zx/6_c9wxfd0zlb6sbj4pg2xzl80000gp/T/ipykernel_7579/3437950980.py:2: FutureWarning: In a future version of pandas all arguments of DataFrame.drop except for the argument 'labels' will be keyword-only\n",
      "  raw_df = raw_df.drop('Unnamed: 0', 1)\n"
     ]
    }
   ],
   "source": [
    "# Drop duplicate column\n",
    "raw_df = raw_df.drop('Unnamed: 0', 1)"
   ]
  },
  {
   "cell_type": "code",
   "execution_count": 22,
   "id": "6b7fe184-8795-4173-9ec6-2362021efad1",
   "metadata": {},
   "outputs": [
    {
     "data": {
      "text/plain": [
       "(10000, 51)"
      ]
     },
     "execution_count": 22,
     "metadata": {},
     "output_type": "execute_result"
    }
   ],
   "source": [
    "# Confirm the number of columns is reduced from 52 to 51 post-deletion\n",
    "raw_df.shape"
   ]
  },
  {
   "cell_type": "code",
   "execution_count": null,
   "id": "c7c8ad43-aeda-407e-b7ce-4d0e9ffcf35a",
   "metadata": {},
   "outputs": [],
   "source": [
    "# Convert zip code to string and fill missing chars with '0'\n",
    "clean_df.zip = clean_df.zip.astype(str).str[:-2].str.pad(5,fillchar='0')\n",
    "\n",
    "clean_df.zip.sample(20)"
   ]
  },
  {
   "cell_type": "code",
   "execution_count": null,
   "id": "008fe5f8-ca2c-4517-8ff3-bb10425c7220",
   "metadata": {},
   "outputs": [],
   "source": [
    "# Replace invalid zip codes with NaN\n",
    "clean_df.zip = clean_df.zip.replace('0000n', np.nan)"
   ]
  },
  {
   "cell_type": "code",
   "execution_count": null,
   "id": "8e7bcbcd-be63-46d3-a432-d5fdd3ac35d6",
   "metadata": {},
   "outputs": [],
   "source": []
  },
  {
   "cell_type": "code",
   "execution_count": null,
   "id": "2e3d6dd2-0d26-4143-a1c8-feb34a24a3e4",
   "metadata": {},
   "outputs": [],
   "source": []
  },
  {
   "cell_type": "code",
   "execution_count": null,
   "id": "e54c801a-6516-4c83-9148-1d967191993c",
   "metadata": {},
   "outputs": [],
   "source": []
  },
  {
   "cell_type": "markdown",
   "id": "bc19c8e0-6c84-40a2-8aa2-203b879afd07",
   "metadata": {},
   "source": [
    "### D5. Clean Dataset <a name=\"d5\"></a> \n",
    "Provide a copy of the cleaned data set. *The submission includes a clean data set created from the raw data. The provided data set includes the complete list of variables from the chosen data set in part A.*"
   ]
  },
  {
   "cell_type": "markdown",
   "id": "4c74a6fe-8286-45f2-8445-6046f92c91e9",
   "metadata": {},
   "source": [
    "### D6. Limitations <a name=\"d6\"></a> \n",
    "Summarize the limitations (cons) of the data-cleaning process.\n",
    "\n",
    "**Discuss the disadvantages of the methods you used to treat your data that you referenced in D2.**"
   ]
  },
  {
   "cell_type": "markdown",
   "id": "1dfd9678-2706-49cc-8f14-7c228f79e6a8",
   "metadata": {},
   "source": [
    "### D7. Implications <a name=\"d7\"></a> \n",
    "Discuss how the limitations in part D6 affect the analysis of the question or decision from part A. *The submission includes a discussion of the impact of the limitations from part D6. The discussion logically aligns with the question or decision from part A.*\n",
    "\n",
    "**Discuss what challenges a data analyst may encounter if they were to use your now cleaned data for analysis.**"
   ]
  },
  {
   "cell_type": "markdown",
   "id": "e04884af-064c-4bdc-ac23-3d7da76b0d6a",
   "metadata": {},
   "source": [
    "[(return to TOC)](#toc)\n",
    "## E. Apply principal component analysis (PCA) to identify the significant features of the data set by doing the following:"
   ]
  },
  {
   "cell_type": "markdown",
   "id": "8626f402-fac0-4b18-b5fe-36a3bf5fc7e2",
   "metadata": {},
   "source": [
    "### E1. Variables and PCA Loadings <a name=\"e1\"></a> \n",
    "List *ALL* the principal components in the data set.\n",
    "**Include the variables used for PCA and the output of the PCA loadings.**"
   ]
  },
  {
   "cell_type": "markdown",
   "id": "08a6cc28-8952-4126-a33a-36063d49b523",
   "metadata": {},
   "source": [
    "### E2. PCs Selection <a name=\"e2\"></a> \n",
    "Describe how you identified the principal components of the data set. **Discuss which PCs should be kept and why (i.e. scree plot).**"
   ]
  },
  {
   "cell_type": "markdown",
   "id": "2796fe37-16cc-4e23-ae47-1fdae833d49b",
   "metadata": {},
   "source": [
    "### E3. Benefits <a name=\"e3\"></a> \n",
    "Describe how the organization can benefit from the results of the PCA. **Discuss the benefit of PCA.**"
   ]
  },
  {
   "cell_type": "markdown",
   "id": "a01e8dea-bc55-457c-83bf-538bd60b9f5e",
   "metadata": {},
   "source": [
    "[(return to TOC)](#toc)\n",
    "# Part IV: Supporting Documents <a name=\"pt4\"></a> "
   ]
  },
  {
   "cell_type": "markdown",
   "id": "20c8489a-2dca-4b58-bf1e-add587b40135",
   "metadata": {},
   "source": [
    "## F. Video Demonstration of Code Functionality <a name=\"f\"></a> \n",
    "Provide a Panopto recording that demonstrates the warning- and error-free functionality of the code used to support the discovery of anomalies and the data cleaning process and summarizes the programming environment."
   ]
  },
  {
   "cell_type": "markdown",
   "id": "1c1be7da-722e-4458-a8a4-a96d14c4222b",
   "metadata": {},
   "source": [
    "## G. Acknowledge Sources <a name=\"g\"></a>\n",
    "Acknowledge sources, using in-text citations and references, for content that is quoted, paraphrased, or summarized.\n",
    "\n",
    "Reference the web sources used to acquire segments of third-party code to support the application. Be sure the web sources are reliable.\n",
    "\n"
   ]
  },
  {
   "cell_type": "markdown",
   "id": "46db5227-85df-4c7f-8223-754ee2b574cf",
   "metadata": {},
   "source": [
    "- Chaudhari, A. (2021, November 3). Categorical data vs Numerical data. Voxco. Retrieved April 19, 2022, from https://www.voxco.com/blog/categorical-data-vs-numerical-data/"
   ]
  },
  {
   "cell_type": "markdown",
   "id": "47e97100-f90d-4365-9fd9-72f2887dc9e1",
   "metadata": {},
   "source": [
    "- GeeksforGeeks. (2020, July 3). How to Find & Drop duplicate columns in a Pandas DataFrame? Retrieved April 20, 2022, from https://www.geeksforgeeks.org/how-to-find-drop-duplicate-columns-in-a-pandas-dataframe/"
   ]
  },
  {
   "cell_type": "markdown",
   "id": "f44b40ae-1e5d-4b62-a906-a8234ba757b9",
   "metadata": {},
   "source": [
    "- How do I select a subset of a DataFrame? (n.d.). Pandas 1.4.2 Documentation. Retrieved April 19, 2022, from https://pandas.pydata.org/docs/getting_started/intro_tutorials/03_subset_data.html"
   ]
  },
  {
   "cell_type": "markdown",
   "id": "c3f4ebf1-a6d8-44b1-bf56-ecbb91b075ee",
   "metadata": {},
   "source": [
    "- Is it a good idea to use an integer column for storing US ZIP codes in a database? (2009, May 21). Stack Overflow. https://stackoverflow.com/questions/893454/is-it-a-good-idea-to-use-an-integer-column-for-storing-us-zip-codes-in-a-databas"
   ]
  },
  {
   "cell_type": "markdown",
   "id": "544a5738-f0bc-4e94-ad07-2df2a92d6cf8",
   "metadata": {},
   "source": [
    "- Larose, C. D., & Larose, D. T. (2019). Data Science Using Python and R (Wiley Series on Methods and Applications in Data Mining) (1st ed.) [E-book]. Wiley."
   ]
  },
  {
   "cell_type": "markdown",
   "id": "09704a46-76e9-4842-a792-2688e39b9553",
   "metadata": {},
   "source": []
  },
  {
   "cell_type": "code",
   "execution_count": 6,
   "id": "f97449fc-099e-4a6c-800e-5d368229f059",
   "metadata": {},
   "outputs": [],
   "source": [
    "!export PATH=/usr/local/texlive/2022/bin/x86_64-darwin:$PATH\n"
   ]
  },
  {
   "cell_type": "code",
   "execution_count": 1,
   "id": "af124e7d-b3a6-46c9-8e90-bbcb778c3b12",
   "metadata": {},
   "outputs": [
    {
     "ename": "SyntaxError",
     "evalue": "invalid syntax (944804948.py, line 1)",
     "output_type": "error",
     "traceback": [
      "\u001b[0;36m  File \u001b[0;32m\"/var/folders/zx/6_c9wxfd0zlb6sbj4pg2xzl80000gp/T/ipykernel_2210/944804948.py\"\u001b[0;36m, line \u001b[0;32m1\u001b[0m\n\u001b[0;31m    jupyter nbconvert 206-Final.ipynb --to pdf\u001b[0m\n\u001b[0m            ^\u001b[0m\n\u001b[0;31mSyntaxError\u001b[0m\u001b[0;31m:\u001b[0m invalid syntax\n"
     ]
    }
   ],
   "source": [
    "jupyter nbconvert 206-Final.ipynb --to pdf"
   ]
  },
  {
   "cell_type": "code",
   "execution_count": null,
   "id": "0fb30d58-f301-4b7c-84fb-71ae94e0cba7",
   "metadata": {},
   "outputs": [],
   "source": [
    "!jupyter nbconvert --to html D206-Final.ipynb"
   ]
  }
 ],
 "metadata": {
  "kernelspec": {
   "display_name": "Python 3 (ipykernel)",
   "language": "python",
   "name": "python3"
  },
  "language_info": {
   "codemirror_mode": {
    "name": "ipython",
    "version": 3
   },
   "file_extension": ".py",
   "mimetype": "text/x-python",
   "name": "python",
   "nbconvert_exporter": "python",
   "pygments_lexer": "ipython3",
   "version": "3.9.7"
  }
 },
 "nbformat": 4,
 "nbformat_minor": 5
}
