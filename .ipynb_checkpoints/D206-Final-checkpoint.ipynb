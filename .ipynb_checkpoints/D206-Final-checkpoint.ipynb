{
 "cells": [
  {
   "cell_type": "markdown",
   "id": "605912e3-a29f-49e8-8e4c-6afbc25a07c3",
   "metadata": {
    "tags": []
   },
   "source": [
    "<table>\n",
    "<tr><td>&nbsp;</td></tr>\n",
    "</table>\n",
    "<table>\n",
    "<tr><td>&nbsp;</td></tr>\n",
    "</table>\n",
    "<center><h1><u>Report Title</u></h1></center>\n",
    "<br>\n",
    "    <center><h4>April 24, 2022</h4></center>\n",
    "    <center><h3>Jessa Green</h3></center>\n",
    "    <center><h4>SID# 71314</h4></center>\n",
    "    <center><h4>Western Governors University</h4></center>\n",
    "\n",
    "\n",
    "<table>\n",
    "<tr><td>&nbsp;</td></tr>\n",
    "</table>\n",
    "<table>\n",
    "<tr><td>&nbsp;</td></tr>\n",
    "</table>\n",
    "<table>\n",
    "<tr><td>&nbsp;</td></tr>\n",
    "</table>"
   ]
  },
  {
   "cell_type": "markdown",
   "id": "351bbd2f-941f-475c-9bb1-2027544ec3fc",
   "metadata": {
    "tags": []
   },
   "source": [
    "# Table of Contents <a name=\"toc\"></a>\n",
    "\n",
    "### Part I: [Research Question and Variables](#pt1)\n",
    "\n",
    "   - A. [Description of Research Question](#a)\n",
    "    \n",
    "   - B. [Description of Data Set Variables](#b)\n",
    " \n",
    "### Part II: [Data-Cleaning Plan](#pt2)\n",
    "\n",
    "   - C1. [Detection Methods](#c1)\n",
    "     \n",
    "   - C2. [Justification for Detection Methods](#c2)\n",
    "     \n",
    "   - C3. [Justification for Program Language](#c4)\n",
    "     \n",
    "   - C4. [Detection Code](#c4)\n",
    "     \n",
    "### Part III: [Data Cleaning Treatment](#pt3)\n",
    "\n",
    "   - D1. [Discussion of Findings](#d1)\n",
    "   \n",
    "   - D2. [Treatment Methods and Justification](#d2)\n",
    "   \n",
    "   - D3. [Summary of Treatment](#d3)\n",
    "   \n",
    "   - D4. [Treatment Code](#d4)\n",
    "   \n",
    "   - D5. [Clean Dataset](#d5)\n",
    "   \n",
    "   - D6. [Limitations](#d6)\n",
    "   \n",
    "   - D7. [Implications](#d7)\n",
    "   \n",
    "   - E1. [Variables and PCA Loadings](#e1)\n",
    "   \n",
    "   - E2. [PCs Selection](#e2)\n",
    "   \n",
    "   - E3. [Benefits](#e3)\n",
    "\n",
    "### Part IV: [Supporting Documents](#pt4)\n",
    "\n",
    "   - F. [Video Demonstration of Code Functionality](#f)\n",
    "   \n",
    "   - G. [Acknowledge Sources](#g)   "
   ]
  },
  {
   "cell_type": "markdown",
   "id": "6f6dbcd3-9423-42f7-aee0-b387e3fc8688",
   "metadata": {},
   "source": [
    "# Part I: Research Question And Variables  <a name=\"pt1\"></a> "
   ]
  },
  {
   "cell_type": "markdown",
   "id": "63825da4-8310-4597-a966-42f9ff79f1c0",
   "metadata": {},
   "source": [
    "## A. Description of Research Question <a name=\"a\"></a> \n",
    "Our telecommunications company wants to reduce churn in order to increase profits and reduce marketing costs by maintaining our current clients. In order to acheive these goals, the research question we want to address, based on our current data set, is:\n",
    "\n",
    "**Which current/active customers in our data set are most likely to discontinue services with us in the near future?**"
   ]
  },
  {
   "cell_type": "markdown",
   "id": "6ef2220d-f494-433f-ab1d-e07762bdf573",
   "metadata": {},
   "source": [
    "## B. Description of Data Set Variables <a name=\"b\"></a> \n",
    "I performed an initial visual inspection of the entire dataset using the provided Churn Data Set Data Dictionary as well as by opening the dataset csv file in Microsoft Excel and by using Python code (see the proceeding cell blocks beneath my provided overview table). "
   ]
  },
  {
   "cell_type": "markdown",
   "id": "3f80f4e3-3550-4b8f-b7b2-ff8aaecf8760",
   "metadata": {},
   "source": [
    "#### Overview Table of all Data Set Variables\n",
    "|  Original Name |  New Name |  Data Type |  Variable Type|Description |  #Unique | #Missing | Example/Range  |\n",
    "|:---:|:---:|:---:|:---:|:---|---:|---:|---:|\n",
    "Unnamed:0|n/a|int64|UID - not for analysis|DELETED COL - Duplication of CaseOrder column|0|10000|1 - 10000|\n",
    "CaseOrder|case_order|int64|UID - not for analysis|Index to preserve original order of raw data|0|10000|1 - 10000|\n",
    "Customer_id|cust_id|object|UID - not for analysis|Unique ID per customer|0|10000|\"K409198, S120509, D90850\"|\n",
    "Interaction|interaction_id|object|UID - not for analysis|Unique ID per customer transaction|0|10000|aa90260b-4141-4a24-8e36-b04ce1f4f77b|\n",
    "City|city|object|categorical - nominal|City of customer residence|0|6058|\"Point Baker, West Branch...\"|\n",
    "State|state|object|categorical - nominal|State of customer residence|0|52|\"AK, MI, OR, CA...\"|\n",
    "County|county|object|categorical - nominal|County of customer residence|0|1620|\"Ogemaw, Yamhill, San Diego...\"|\n",
    "Zip|zip|int64|categorical - ordinal|Zip code of customer residence|0|8583|601 - 99929|\n",
    "Lat|latitude|float64|numeric - continuous|GPS Latitude of customer residence|0|8563|17.96612 - 70.64066|\n",
    "Lng|longitude|float64|numeric - continuous|GPS Longitude of customer residence|0|8655|-171.68815 - -65.66785|\n",
    "Population|population|int64|numeric - discrete|Population within one mile radius of customer|0|5933|0 - 111850|\n",
    "Area|area|object|categorical - nominal|Area type around customer residence|0|3|\"rural, urban, suburban\"|\n",
    "Timezone|timezone|object|categorical - ordinal|Time Zone of customer residence|0|25|\"Pacific/Honolulu, America/New_York\"|\n",
    "Job|job|object|categorical - nominal|Job of customer|0|639|\"Comptroller, Paramedic\"|\n",
    "Children|children|float64|numeric - discrete|Number of children in customer household|2495|12|0 - 10|\n",
    "Age|age|float64|numeric - discrete|Age of customer|2475|73|18 - 89|\n",
    "Education|education|object|categorical - ordinal|Highest degree earned as reported by customer|0|12|\"Bachelor's Degree, 9th Grade to 12th Grade\"|\n",
    "Employment|employment|object|categorical - nominal|Employment status as reported by customer|0|5|\"Student, Part Time, Full Time, Retired, Unemployed\"|\n",
    "Income|income|float64|numeric - continuous|Annual income as reported by customer|2490|7507|740.66 - 258900.7|\n",
    "Marital|marital|object|categorical - nominal|Marital status as reported by customer|0|5|\"Never Married, Married, Separated, Divorced, Widowed\"|\n",
    "Gender|gender|object|categorical - nominal|Gender as reported by customer|0|3|\"Male, Female, Prefer not to answer\"|\n",
    "Churn|churn|object|categorical - nominal|Whether customer discontinued service within last month|0|2|\"Yes, No\"|\n",
    "Outage_sec_perweek|outage_sec_wk|float64|numeric - continuous|Average # of seconds/week of system outages in customer's area|0|9993|-1.348571 - 47.04928|\n",
    "Email|email_contact_yr|int64|numeric - discrete|Number of emails sent to customer |0|23|1 - 23|\n",
    "Contacts|support_reqs_total|int64|numeric - discrete|Number of times customer contacted tech support|0|8|0 - 7|\n",
    "Yearly_equip_failure|equip_failure_yr|int64|numeric - discrete|Numer of times annually customer's equipment failed|0|6|0 - 6|\n",
    "Techie|cust_is_techie|object|categorical - nominal|Whether customer considers themselves technically inclined|2477|3|\"Yes, No, NA\"|\n",
    "Contract|contract_term|object|categorical - nominal|Contract term of the customer|0|3|\"Month-to-month, One year, Two year\"|\n",
    "Port_modem|portable_modem|object|categorical - nominal|Whether customer has a portable modem|0|2|\"Yes, No\"|\n",
    "Tablet|table|object|categorical - nominal|Whether customer owns a tablet device|0|2|\"Yes, No\"|\n",
    "InternetService|internet_service|object|categorical - nominal|Customer's internet service provider|0|3|\"DSL, Fiber Optic, None\"|\n",
    "Phone|phone_service|object|categorical - nominal|Whether the customer has a phone service|1026|3|\"Yes, No, NA\"|\n",
    "Multiple|multi_ph_lines|object|categorical - nominal|Whether the customer has multiple phone lines|0|2|\"Yes, No\"|\n",
    "OnlineSecurity|online_security|object|categorical - nominal|Whether the customer has an online security add-on|0|2|\"Yes, No\"|\n",
    "OnlineBackup|online_backup|object|categorical - nominal|Whether the customer has an online backup add-on|0|2|\"Yes, No\"|\n",
    "DeviceProtection|device_protection|object|categorical - nominal|Whether the customer has device protection add-on|0|2|\"Yes, No\"|\n",
    "TechSupport|tech_support|object|categorical - nominal|Whether the customer has a technical support add-on|991|3|\"Yes, No\"|\n",
    "StreamingTV|streaming_tv|object|categorical - nominal|Whether the customer has streaming TV|0|2|\"Yes, No\"|\n",
    "StreamingMovies|streaming_movies|object|categorical - nominal|Whether the customer has streaming movies|0|2|\"Yes, No\"|\n",
    "PaperlessBilling|paperless_bill|object|categorical - nominal|Whether the customer has paperless billing|0|2|\"Yes, No\"|\n",
    "PaymentMethod|pay_method|object|categorical - nominal|Customer's payment method|0|4|\"Electronic Check, Mailed Check, Bank Transfer(automatic), Credit Card (automatic)\"|\n",
    "Tenure|tenure|float64|numeric - continuous|Number of months customer has stayed with the provider|931|9066|1.00025934 - 71.99928|\n",
    "MonthlyCharge|monthly_charge|float64|numeric - continuous|Monthly amount charged to the customer |0|9984|77.50523 - 315.8786|\n",
    "Bandwidth_GB_Year|bandwidth_gb_yr|float64|numeric - continuous|Average amount of data used annually by customer (in GB)|1021|8973|155.5067148 - 7158.982|\n",
    "item1|timely_resp|int64|categorical - ordinal|\"Timely response on cust survey (1=most important/8=least important)\"|0|7|1 - 7|\n",
    "item2|timely_fix|int64|categorical - ordinal|\"Timely fixes on cust survey (1=most important/8=least important)\"|0|7|1 - 7|\n",
    "item3|timely_replace|int64|categorical - ordinal|\"Timely replacements on cust survey (1=most important/8=least important)\"|0|8|1 - 8|\n",
    "item4|reliability|int64|categorical - ordinal|\"Reliability on cust survey (1=most important/8=least important)\"|0|7|1 - 7|\n",
    "item5|options|int64|categorical - ordinal|\"Options on cust survey (1=most important/8=least important)\"|0|7|1 - 7|\n",
    "item6|respectful|int64|categorical - ordinal|\"Respectful response on cust survey (1=most important/8=least important)\"|0|8|1 - 8|\n",
    "item7|courteous|int64|categorical - ordinal|\"Courteous exchange on cust survey (1=most important/8=least important)\"|0|7|1 - 7|\n",
    "item8|active_listening|int64|categorical - ordinal|\"Evidence of active listening on cust survey (1=most important/8=least important)\"|0|8|1 - 8|"
   ]
  },
  {
   "cell_type": "code",
   "execution_count": 1,
   "id": "6e1faea4-e582-4cce-bb03-c7bb9ecc9c63",
   "metadata": {},
   "outputs": [],
   "source": [
    "import pandas as pd\n",
    "import numpy as np"
   ]
  },
  {
   "cell_type": "code",
   "execution_count": 19,
   "id": "f3f2b026-1372-47df-b1e1-092dc059ab74",
   "metadata": {},
   "outputs": [
    {
     "data": {
      "text/html": [
       "<div>\n",
       "<style scoped>\n",
       "    .dataframe tbody tr th:only-of-type {\n",
       "        vertical-align: middle;\n",
       "    }\n",
       "\n",
       "    .dataframe tbody tr th {\n",
       "        vertical-align: top;\n",
       "    }\n",
       "\n",
       "    .dataframe thead th {\n",
       "        text-align: right;\n",
       "    }\n",
       "</style>\n",
       "<table border=\"1\" class=\"dataframe\">\n",
       "  <thead>\n",
       "    <tr style=\"text-align: right;\">\n",
       "      <th></th>\n",
       "      <th>Unnamed: 0</th>\n",
       "      <th>CaseOrder</th>\n",
       "      <th>Customer_id</th>\n",
       "      <th>Interaction</th>\n",
       "      <th>City</th>\n",
       "      <th>State</th>\n",
       "      <th>County</th>\n",
       "      <th>Zip</th>\n",
       "      <th>Lat</th>\n",
       "      <th>Lng</th>\n",
       "      <th>...</th>\n",
       "      <th>MonthlyCharge</th>\n",
       "      <th>Bandwidth_GB_Year</th>\n",
       "      <th>item1</th>\n",
       "      <th>item2</th>\n",
       "      <th>item3</th>\n",
       "      <th>item4</th>\n",
       "      <th>item5</th>\n",
       "      <th>item6</th>\n",
       "      <th>item7</th>\n",
       "      <th>item8</th>\n",
       "    </tr>\n",
       "  </thead>\n",
       "  <tbody>\n",
       "    <tr>\n",
       "      <th>0</th>\n",
       "      <td>1</td>\n",
       "      <td>1</td>\n",
       "      <td>K409198</td>\n",
       "      <td>aa90260b-4141-4a24-8e36-b04ce1f4f77b</td>\n",
       "      <td>Point Baker</td>\n",
       "      <td>AK</td>\n",
       "      <td>Prince of Wales-Hyder</td>\n",
       "      <td>99927</td>\n",
       "      <td>56.25100</td>\n",
       "      <td>-133.37571</td>\n",
       "      <td>...</td>\n",
       "      <td>171.449762</td>\n",
       "      <td>904.536110</td>\n",
       "      <td>5</td>\n",
       "      <td>5</td>\n",
       "      <td>5</td>\n",
       "      <td>3</td>\n",
       "      <td>4</td>\n",
       "      <td>4</td>\n",
       "      <td>3</td>\n",
       "      <td>4</td>\n",
       "    </tr>\n",
       "    <tr>\n",
       "      <th>1</th>\n",
       "      <td>2</td>\n",
       "      <td>2</td>\n",
       "      <td>S120509</td>\n",
       "      <td>fb76459f-c047-4a9d-8af9-e0f7d4ac2524</td>\n",
       "      <td>West Branch</td>\n",
       "      <td>MI</td>\n",
       "      <td>Ogemaw</td>\n",
       "      <td>48661</td>\n",
       "      <td>44.32893</td>\n",
       "      <td>-84.24080</td>\n",
       "      <td>...</td>\n",
       "      <td>242.948015</td>\n",
       "      <td>800.982766</td>\n",
       "      <td>3</td>\n",
       "      <td>4</td>\n",
       "      <td>3</td>\n",
       "      <td>3</td>\n",
       "      <td>4</td>\n",
       "      <td>3</td>\n",
       "      <td>4</td>\n",
       "      <td>4</td>\n",
       "    </tr>\n",
       "    <tr>\n",
       "      <th>2</th>\n",
       "      <td>3</td>\n",
       "      <td>3</td>\n",
       "      <td>K191035</td>\n",
       "      <td>344d114c-3736-4be5-98f7-c72c281e2d35</td>\n",
       "      <td>Yamhill</td>\n",
       "      <td>OR</td>\n",
       "      <td>Yamhill</td>\n",
       "      <td>97148</td>\n",
       "      <td>45.35589</td>\n",
       "      <td>-123.24657</td>\n",
       "      <td>...</td>\n",
       "      <td>159.440398</td>\n",
       "      <td>2054.706961</td>\n",
       "      <td>4</td>\n",
       "      <td>4</td>\n",
       "      <td>2</td>\n",
       "      <td>4</td>\n",
       "      <td>4</td>\n",
       "      <td>3</td>\n",
       "      <td>3</td>\n",
       "      <td>3</td>\n",
       "    </tr>\n",
       "    <tr>\n",
       "      <th>3</th>\n",
       "      <td>4</td>\n",
       "      <td>4</td>\n",
       "      <td>D90850</td>\n",
       "      <td>abfa2b40-2d43-4994-b15a-989b8c79e311</td>\n",
       "      <td>Del Mar</td>\n",
       "      <td>CA</td>\n",
       "      <td>San Diego</td>\n",
       "      <td>92014</td>\n",
       "      <td>32.96687</td>\n",
       "      <td>-117.24798</td>\n",
       "      <td>...</td>\n",
       "      <td>120.249493</td>\n",
       "      <td>2164.579412</td>\n",
       "      <td>4</td>\n",
       "      <td>4</td>\n",
       "      <td>4</td>\n",
       "      <td>2</td>\n",
       "      <td>5</td>\n",
       "      <td>4</td>\n",
       "      <td>3</td>\n",
       "      <td>3</td>\n",
       "    </tr>\n",
       "    <tr>\n",
       "      <th>4</th>\n",
       "      <td>5</td>\n",
       "      <td>5</td>\n",
       "      <td>K662701</td>\n",
       "      <td>68a861fd-0d20-4e51-a587-8a90407ee574</td>\n",
       "      <td>Needville</td>\n",
       "      <td>TX</td>\n",
       "      <td>Fort Bend</td>\n",
       "      <td>77461</td>\n",
       "      <td>29.38012</td>\n",
       "      <td>-95.80673</td>\n",
       "      <td>...</td>\n",
       "      <td>150.761216</td>\n",
       "      <td>271.493436</td>\n",
       "      <td>4</td>\n",
       "      <td>4</td>\n",
       "      <td>4</td>\n",
       "      <td>3</td>\n",
       "      <td>4</td>\n",
       "      <td>4</td>\n",
       "      <td>4</td>\n",
       "      <td>5</td>\n",
       "    </tr>\n",
       "  </tbody>\n",
       "</table>\n",
       "<p>5 rows × 52 columns</p>\n",
       "</div>"
      ],
      "text/plain": [
       "   Unnamed: 0  CaseOrder Customer_id                           Interaction  \\\n",
       "0           1          1     K409198  aa90260b-4141-4a24-8e36-b04ce1f4f77b   \n",
       "1           2          2     S120509  fb76459f-c047-4a9d-8af9-e0f7d4ac2524   \n",
       "2           3          3     K191035  344d114c-3736-4be5-98f7-c72c281e2d35   \n",
       "3           4          4      D90850  abfa2b40-2d43-4994-b15a-989b8c79e311   \n",
       "4           5          5     K662701  68a861fd-0d20-4e51-a587-8a90407ee574   \n",
       "\n",
       "          City State                 County    Zip       Lat        Lng  ...  \\\n",
       "0  Point Baker    AK  Prince of Wales-Hyder  99927  56.25100 -133.37571  ...   \n",
       "1  West Branch    MI                 Ogemaw  48661  44.32893  -84.24080  ...   \n",
       "2      Yamhill    OR                Yamhill  97148  45.35589 -123.24657  ...   \n",
       "3      Del Mar    CA              San Diego  92014  32.96687 -117.24798  ...   \n",
       "4    Needville    TX              Fort Bend  77461  29.38012  -95.80673  ...   \n",
       "\n",
       "   MonthlyCharge Bandwidth_GB_Year item1 item2  item3  item4 item5 item6  \\\n",
       "0     171.449762        904.536110     5     5      5      3     4     4   \n",
       "1     242.948015        800.982766     3     4      3      3     4     3   \n",
       "2     159.440398       2054.706961     4     4      2      4     4     3   \n",
       "3     120.249493       2164.579412     4     4      4      2     5     4   \n",
       "4     150.761216        271.493436     4     4      4      3     4     4   \n",
       "\n",
       "   item7 item8  \n",
       "0      3     4  \n",
       "1      4     4  \n",
       "2      3     3  \n",
       "3      3     3  \n",
       "4      4     5  \n",
       "\n",
       "[5 rows x 52 columns]"
      ]
     },
     "execution_count": 19,
     "metadata": {},
     "output_type": "execute_result"
    }
   ],
   "source": [
    "raw_df = pd.read_csv('churn_raw_data.csv')\n",
    "raw_df.head()"
   ]
  },
  {
   "cell_type": "code",
   "execution_count": 20,
   "id": "8ce977a4-933a-4695-8824-30b58e325325",
   "metadata": {},
   "outputs": [
    {
     "data": {
      "text/html": [
       "<div>\n",
       "<style scoped>\n",
       "    .dataframe tbody tr th:only-of-type {\n",
       "        vertical-align: middle;\n",
       "    }\n",
       "\n",
       "    .dataframe tbody tr th {\n",
       "        vertical-align: top;\n",
       "    }\n",
       "\n",
       "    .dataframe thead th {\n",
       "        text-align: right;\n",
       "    }\n",
       "</style>\n",
       "<table border=\"1\" class=\"dataframe\">\n",
       "  <thead>\n",
       "    <tr style=\"text-align: right;\">\n",
       "      <th></th>\n",
       "      <th>Unnamed: 0</th>\n",
       "      <th>CaseOrder</th>\n",
       "      <th>Customer_id</th>\n",
       "      <th>Interaction</th>\n",
       "      <th>City</th>\n",
       "      <th>State</th>\n",
       "      <th>County</th>\n",
       "      <th>Zip</th>\n",
       "      <th>Lat</th>\n",
       "      <th>Lng</th>\n",
       "      <th>...</th>\n",
       "      <th>MonthlyCharge</th>\n",
       "      <th>Bandwidth_GB_Year</th>\n",
       "      <th>item1</th>\n",
       "      <th>item2</th>\n",
       "      <th>item3</th>\n",
       "      <th>item4</th>\n",
       "      <th>item5</th>\n",
       "      <th>item6</th>\n",
       "      <th>item7</th>\n",
       "      <th>item8</th>\n",
       "    </tr>\n",
       "  </thead>\n",
       "  <tbody>\n",
       "    <tr>\n",
       "      <th>9995</th>\n",
       "      <td>9996</td>\n",
       "      <td>9996</td>\n",
       "      <td>M324793</td>\n",
       "      <td>45deb5a2-ae04-4518-bf0b-c82db8dbe4a4</td>\n",
       "      <td>Mount Holly</td>\n",
       "      <td>VT</td>\n",
       "      <td>Rutland</td>\n",
       "      <td>5758</td>\n",
       "      <td>43.43391</td>\n",
       "      <td>-72.78734</td>\n",
       "      <td>...</td>\n",
       "      <td>159.8288</td>\n",
       "      <td>6511.253</td>\n",
       "      <td>3</td>\n",
       "      <td>2</td>\n",
       "      <td>3</td>\n",
       "      <td>3</td>\n",
       "      <td>4</td>\n",
       "      <td>3</td>\n",
       "      <td>2</td>\n",
       "      <td>3</td>\n",
       "    </tr>\n",
       "    <tr>\n",
       "      <th>9996</th>\n",
       "      <td>9997</td>\n",
       "      <td>9997</td>\n",
       "      <td>D861732</td>\n",
       "      <td>6e96b921-0c09-4993-bbda-a1ac6411061a</td>\n",
       "      <td>Clarksville</td>\n",
       "      <td>TN</td>\n",
       "      <td>Montgomery</td>\n",
       "      <td>37042</td>\n",
       "      <td>36.56907</td>\n",
       "      <td>-87.41694</td>\n",
       "      <td>...</td>\n",
       "      <td>208.8564</td>\n",
       "      <td>5695.952</td>\n",
       "      <td>4</td>\n",
       "      <td>5</td>\n",
       "      <td>5</td>\n",
       "      <td>4</td>\n",
       "      <td>4</td>\n",
       "      <td>5</td>\n",
       "      <td>2</td>\n",
       "      <td>5</td>\n",
       "    </tr>\n",
       "    <tr>\n",
       "      <th>9997</th>\n",
       "      <td>9998</td>\n",
       "      <td>9998</td>\n",
       "      <td>I243405</td>\n",
       "      <td>e8307ddf-9a01-4fff-bc59-4742e03fd24f</td>\n",
       "      <td>Mobeetie</td>\n",
       "      <td>TX</td>\n",
       "      <td>Wheeler</td>\n",
       "      <td>79061</td>\n",
       "      <td>35.52039</td>\n",
       "      <td>-100.44180</td>\n",
       "      <td>...</td>\n",
       "      <td>168.2209</td>\n",
       "      <td>4159.306</td>\n",
       "      <td>4</td>\n",
       "      <td>4</td>\n",
       "      <td>4</td>\n",
       "      <td>4</td>\n",
       "      <td>4</td>\n",
       "      <td>4</td>\n",
       "      <td>4</td>\n",
       "      <td>5</td>\n",
       "    </tr>\n",
       "    <tr>\n",
       "      <th>9998</th>\n",
       "      <td>9999</td>\n",
       "      <td>9999</td>\n",
       "      <td>I641617</td>\n",
       "      <td>3775ccfc-0052-4107-81ae-9657f81ecdf3</td>\n",
       "      <td>Carrollton</td>\n",
       "      <td>GA</td>\n",
       "      <td>Carroll</td>\n",
       "      <td>30117</td>\n",
       "      <td>33.58016</td>\n",
       "      <td>-85.13241</td>\n",
       "      <td>...</td>\n",
       "      <td>252.6286</td>\n",
       "      <td>6468.457</td>\n",
       "      <td>4</td>\n",
       "      <td>4</td>\n",
       "      <td>6</td>\n",
       "      <td>4</td>\n",
       "      <td>3</td>\n",
       "      <td>3</td>\n",
       "      <td>5</td>\n",
       "      <td>4</td>\n",
       "    </tr>\n",
       "    <tr>\n",
       "      <th>9999</th>\n",
       "      <td>10000</td>\n",
       "      <td>10000</td>\n",
       "      <td>T38070</td>\n",
       "      <td>9de5fb6e-bd33-4995-aec8-f01d0172a499</td>\n",
       "      <td>Clarkesville</td>\n",
       "      <td>GA</td>\n",
       "      <td>Habersham</td>\n",
       "      <td>30523</td>\n",
       "      <td>34.70783</td>\n",
       "      <td>-83.53648</td>\n",
       "      <td>...</td>\n",
       "      <td>218.3710</td>\n",
       "      <td>5857.586</td>\n",
       "      <td>2</td>\n",
       "      <td>2</td>\n",
       "      <td>3</td>\n",
       "      <td>3</td>\n",
       "      <td>3</td>\n",
       "      <td>3</td>\n",
       "      <td>4</td>\n",
       "      <td>1</td>\n",
       "    </tr>\n",
       "  </tbody>\n",
       "</table>\n",
       "<p>5 rows × 52 columns</p>\n",
       "</div>"
      ],
      "text/plain": [
       "      Unnamed: 0  CaseOrder Customer_id                           Interaction  \\\n",
       "9995        9996       9996     M324793  45deb5a2-ae04-4518-bf0b-c82db8dbe4a4   \n",
       "9996        9997       9997     D861732  6e96b921-0c09-4993-bbda-a1ac6411061a   \n",
       "9997        9998       9998     I243405  e8307ddf-9a01-4fff-bc59-4742e03fd24f   \n",
       "9998        9999       9999     I641617  3775ccfc-0052-4107-81ae-9657f81ecdf3   \n",
       "9999       10000      10000      T38070  9de5fb6e-bd33-4995-aec8-f01d0172a499   \n",
       "\n",
       "              City State      County    Zip       Lat        Lng  ...  \\\n",
       "9995   Mount Holly    VT     Rutland   5758  43.43391  -72.78734  ...   \n",
       "9996   Clarksville    TN  Montgomery  37042  36.56907  -87.41694  ...   \n",
       "9997      Mobeetie    TX     Wheeler  79061  35.52039 -100.44180  ...   \n",
       "9998    Carrollton    GA     Carroll  30117  33.58016  -85.13241  ...   \n",
       "9999  Clarkesville    GA   Habersham  30523  34.70783  -83.53648  ...   \n",
       "\n",
       "      MonthlyCharge Bandwidth_GB_Year item1 item2  item3  item4 item5 item6  \\\n",
       "9995       159.8288          6511.253     3     2      3      3     4     3   \n",
       "9996       208.8564          5695.952     4     5      5      4     4     5   \n",
       "9997       168.2209          4159.306     4     4      4      4     4     4   \n",
       "9998       252.6286          6468.457     4     4      6      4     3     3   \n",
       "9999       218.3710          5857.586     2     2      3      3     3     3   \n",
       "\n",
       "      item7 item8  \n",
       "9995      2     3  \n",
       "9996      2     5  \n",
       "9997      4     5  \n",
       "9998      5     4  \n",
       "9999      4     1  \n",
       "\n",
       "[5 rows x 52 columns]"
      ]
     },
     "execution_count": 20,
     "metadata": {},
     "output_type": "execute_result"
    }
   ],
   "source": [
    "raw_df.tail()"
   ]
  },
  {
   "cell_type": "code",
   "execution_count": 3,
   "id": "488e19f6-9fad-4822-99fa-37329e6ee177",
   "metadata": {},
   "outputs": [
    {
     "name": "stdout",
     "output_type": "stream",
     "text": [
      "<class 'pandas.core.frame.DataFrame'>\n",
      "RangeIndex: 10000 entries, 0 to 9999\n",
      "Data columns (total 52 columns):\n",
      " #   Column                Non-Null Count  Dtype  \n",
      "---  ------                --------------  -----  \n",
      " 0   Unnamed: 0            10000 non-null  int64  \n",
      " 1   CaseOrder             10000 non-null  int64  \n",
      " 2   Customer_id           10000 non-null  object \n",
      " 3   Interaction           10000 non-null  object \n",
      " 4   City                  10000 non-null  object \n",
      " 5   State                 10000 non-null  object \n",
      " 6   County                10000 non-null  object \n",
      " 7   Zip                   10000 non-null  int64  \n",
      " 8   Lat                   10000 non-null  float64\n",
      " 9   Lng                   10000 non-null  float64\n",
      " 10  Population            10000 non-null  int64  \n",
      " 11  Area                  10000 non-null  object \n",
      " 12  Timezone              10000 non-null  object \n",
      " 13  Job                   10000 non-null  object \n",
      " 14  Children              7505 non-null   float64\n",
      " 15  Age                   7525 non-null   float64\n",
      " 16  Education             10000 non-null  object \n",
      " 17  Employment            10000 non-null  object \n",
      " 18  Income                7510 non-null   float64\n",
      " 19  Marital               10000 non-null  object \n",
      " 20  Gender                10000 non-null  object \n",
      " 21  Churn                 10000 non-null  object \n",
      " 22  Outage_sec_perweek    10000 non-null  float64\n",
      " 23  Email                 10000 non-null  int64  \n",
      " 24  Contacts              10000 non-null  int64  \n",
      " 25  Yearly_equip_failure  10000 non-null  int64  \n",
      " 26  Techie                7523 non-null   object \n",
      " 27  Contract              10000 non-null  object \n",
      " 28  Port_modem            10000 non-null  object \n",
      " 29  Tablet                10000 non-null  object \n",
      " 30  InternetService       10000 non-null  object \n",
      " 31  Phone                 8974 non-null   object \n",
      " 32  Multiple              10000 non-null  object \n",
      " 33  OnlineSecurity        10000 non-null  object \n",
      " 34  OnlineBackup          10000 non-null  object \n",
      " 35  DeviceProtection      10000 non-null  object \n",
      " 36  TechSupport           9009 non-null   object \n",
      " 37  StreamingTV           10000 non-null  object \n",
      " 38  StreamingMovies       10000 non-null  object \n",
      " 39  PaperlessBilling      10000 non-null  object \n",
      " 40  PaymentMethod         10000 non-null  object \n",
      " 41  Tenure                9069 non-null   float64\n",
      " 42  MonthlyCharge         10000 non-null  float64\n",
      " 43  Bandwidth_GB_Year     8979 non-null   float64\n",
      " 44  item1                 10000 non-null  int64  \n",
      " 45  item2                 10000 non-null  int64  \n",
      " 46  item3                 10000 non-null  int64  \n",
      " 47  item4                 10000 non-null  int64  \n",
      " 48  item5                 10000 non-null  int64  \n",
      " 49  item6                 10000 non-null  int64  \n",
      " 50  item7                 10000 non-null  int64  \n",
      " 51  item8                 10000 non-null  int64  \n",
      "dtypes: float64(9), int64(15), object(28)\n",
      "memory usage: 4.0+ MB\n"
     ]
    }
   ],
   "source": [
    "raw_df.info()"
   ]
  },
  {
   "cell_type": "code",
   "execution_count": null,
   "id": "55d84b79-db37-4728-8cab-94f7fea86f59",
   "metadata": {},
   "outputs": [],
   "source": []
  },
  {
   "cell_type": "code",
   "execution_count": null,
   "id": "bf38befa-63ba-4c29-8e4b-b05e738d6c80",
   "metadata": {},
   "outputs": [],
   "source": []
  },
  {
   "cell_type": "code",
   "execution_count": null,
   "id": "9f1bccfa-f754-49ba-9627-50e3886bbd18",
   "metadata": {},
   "outputs": [],
   "source": []
  },
  {
   "cell_type": "code",
   "execution_count": null,
   "id": "27af1241-9669-4c22-83a7-175ddeea5db1",
   "metadata": {},
   "outputs": [],
   "source": []
  },
  {
   "cell_type": "markdown",
   "id": "9d88b9c8-8c7e-4d5c-8735-26c3f73d4ab5",
   "metadata": {},
   "source": [
    "[(return to TOC)](#toc)\n",
    "# Part II: Data-Cleaning Plan  <a name=\"pt2\"></a> \n",
    "## C. Explain the plan for cleaning the data by doing the following:"
   ]
  },
  {
   "cell_type": "markdown",
   "id": "c080f7a4-6b3d-4ec2-a89b-d3453fb9e32e",
   "metadata": {},
   "source": [
    "### C1. Detection Methods <a name=\"c1\"></a> \n",
    "Propose a plan that includes the relevant techniques and specific steps needed to identify anomalies in the data set. *The proposal includes a detailed description of the techniques and steps needed for identifying anomalies in the selected data set.*\n",
    "\n",
    "**Discuss what methods you used to detect duplicates, missing values, outliers, and any other data quality issues.  In this section discuss re-expressed variables (if used).  Remember, you need to detect outliers for all quantitative variables.**"
   ]
  },
  {
   "cell_type": "markdown",
   "id": "2091881a-1703-45db-9401-e928acb72f57",
   "metadata": {},
   "source": [
    "According to research by Larose and Larose (2019), some of the key steps in data preparation before exploration and use with modeling and algorithms include adding an index field, identifying and handling duplicates, outliers, and missing data,transforming and standardizing the data, binning numerical variables, and reclassifying categorical variables.\n",
    "\n",
    "To start, our data set already has an index provided, CaseOrder (which will be renamed case_order during the cleaning process).\n",
    "\n"
   ]
  },
  {
   "cell_type": "markdown",
   "id": "3be6bab6-d08a-4f52-bfe0-6930d524ae3e",
   "metadata": {},
   "source": [
    "### C2. Justification for Detection Methods <a name=\"c2\"></a> \n",
    "Justify your approach for assessing the quality of the data, include:\n",
    "- characteristics of the data being assessed\n",
    "- the approach used to assess the quality of the data\n",
    "- ensure approach aligns with this data set\n",
    "\n",
    "**Discuss why you selected the methods discussed in C1. Use credible sources (i.e. course textbook) to support your why!**"
   ]
  },
  {
   "cell_type": "markdown",
   "id": "b9612bc6-68aa-462c-bb4d-e9927697324f",
   "metadata": {},
   "source": [
    "|  Anomaly    | Strategy    | Objective     | Technique     |\n",
    "|------------|-----------|-----------|------------------|\n"
   ]
  },
  {
   "cell_type": "markdown",
   "id": "326948cd-b16a-4d1e-9fe3-972b5efa6f15",
   "metadata": {},
   "source": [
    "### C3. Justification for Program Language <a name=\"c3\"></a> \n",
    "Justify your selected programming language and any libraries and packages that will support the data-cleaning process. *The justification describes the benefits of using the programming language, including any libraries and packages used to clean the data, and includes specific examples of how these tools are ideal in this scenario as opposed to other available tools.*\n",
    "\n",
    "**Discuss what programming language you used to clean your data (including libraries and packages) and why.**"
   ]
  },
  {
   "cell_type": "markdown",
   "id": "713e4819-3876-4358-80c0-2487bfab7910",
   "metadata": {},
   "source": [
    "| Library                      | Application                                                             |\n",
    "|------------------------------|-------------------------------------------------------------------------|\n",
    "| Pandas | DataFrames |\n",
    "| NumPy |  "
   ]
  },
  {
   "cell_type": "markdown",
   "id": "c76d4f81-231c-4a29-92d1-3d403130cb14",
   "metadata": {},
   "source": [
    "### C4. Detection Code <a name=\"c4\"></a> \n",
    "Provide the complete and executable code you will use to identify the anomalies in the data.\n",
    "\n",
    "**Provide the code (no screenshots) used to detect duplicates, missing values, outliers (all numeric values that are related to customer/patient), and any other data cleaning matters. Remember, you need to detect outliers for all quantitative variables.**"
   ]
  },
  {
   "cell_type": "markdown",
   "id": "851876b6-13f7-4a2c-9284-dda2ce4c742b",
   "metadata": {},
   "source": [
    "#### Detect Duplicates"
   ]
  },
  {
   "cell_type": "code",
   "execution_count": 4,
   "id": "e589b9c9-1576-4090-9ded-a6b481c192e1",
   "metadata": {},
   "outputs": [
    {
     "data": {
      "text/plain": [
       "0       False\n",
       "1       False\n",
       "2       False\n",
       "3       False\n",
       "4       False\n",
       "        ...  \n",
       "9995    False\n",
       "9996    False\n",
       "9997    False\n",
       "9998    False\n",
       "9999    False\n",
       "Length: 10000, dtype: bool"
      ]
     },
     "execution_count": 4,
     "metadata": {},
     "output_type": "execute_result"
    }
   ],
   "source": [
    "raw_df.duplicated()"
   ]
  },
  {
   "cell_type": "code",
   "execution_count": null,
   "id": "db593daa-1c6d-49c5-b214-0d97216a159b",
   "metadata": {},
   "outputs": [],
   "source": [
    "# For each categorical column, determine unique values\n",
    "df.col_name.unique()"
   ]
  },
  {
   "cell_type": "code",
   "execution_count": null,
   "id": "d6383f41-2b3c-447f-8459-bc0ccf78b3e5",
   "metadata": {},
   "outputs": [],
   "source": []
  },
  {
   "cell_type": "code",
   "execution_count": null,
   "id": "6e7e69ff-5f63-4692-9156-1d24da49db6b",
   "metadata": {},
   "outputs": [],
   "source": []
  },
  {
   "cell_type": "markdown",
   "id": "18d3caf3-f4c8-47c4-a9a9-e098e5ac4de9",
   "metadata": {},
   "source": [
    "#### Detect Missing Data"
   ]
  },
  {
   "cell_type": "code",
   "execution_count": 5,
   "id": "675d8653-f69d-48f0-8af7-aa5dc2b25fb9",
   "metadata": {},
   "outputs": [
    {
     "data": {
      "text/plain": [
       "Unnamed: 0                 0\n",
       "CaseOrder                  0\n",
       "Customer_id                0\n",
       "Interaction                0\n",
       "City                       0\n",
       "State                      0\n",
       "County                     0\n",
       "Zip                        0\n",
       "Lat                        0\n",
       "Lng                        0\n",
       "Population                 0\n",
       "Area                       0\n",
       "Timezone                   0\n",
       "Job                        0\n",
       "Children                2495\n",
       "Age                     2475\n",
       "Education                  0\n",
       "Employment                 0\n",
       "Income                  2490\n",
       "Marital                    0\n",
       "Gender                     0\n",
       "Churn                      0\n",
       "Outage_sec_perweek         0\n",
       "Email                      0\n",
       "Contacts                   0\n",
       "Yearly_equip_failure       0\n",
       "Techie                  2477\n",
       "Contract                   0\n",
       "Port_modem                 0\n",
       "Tablet                     0\n",
       "InternetService            0\n",
       "Phone                   1026\n",
       "Multiple                   0\n",
       "OnlineSecurity             0\n",
       "OnlineBackup               0\n",
       "DeviceProtection           0\n",
       "TechSupport              991\n",
       "StreamingTV                0\n",
       "StreamingMovies            0\n",
       "PaperlessBilling           0\n",
       "PaymentMethod              0\n",
       "Tenure                   931\n",
       "MonthlyCharge              0\n",
       "Bandwidth_GB_Year       1021\n",
       "item1                      0\n",
       "item2                      0\n",
       "item3                      0\n",
       "item4                      0\n",
       "item5                      0\n",
       "item6                      0\n",
       "item7                      0\n",
       "item8                      0\n",
       "dtype: int64"
      ]
     },
     "execution_count": 5,
     "metadata": {},
     "output_type": "execute_result"
    }
   ],
   "source": [
    "raw_df.isnull().sum()"
   ]
  },
  {
   "cell_type": "markdown",
   "id": "6425526a-0f85-4daf-bce9-1ebb637de081",
   "metadata": {},
   "source": [
    "#### Examine the Distribution"
   ]
  },
  {
   "cell_type": "code",
   "execution_count": 11,
   "id": "e08f7732-db0b-43d1-a258-fbfecdae5726",
   "metadata": {},
   "outputs": [
    {
     "data": {
      "image/png": "[encoded data removed]",
      "text/plain": [
       "<Figure size 432x288 with 25 Axes>"
      ]
     },
     "metadata": {
      "needs_background": "light"
     },
     "output_type": "display_data"
    }
   ],
   "source": [
    "import matplotlib.pyplot as plt\n",
    "\n",
    "raw_df.hist();"
   ]
  },
  {
   "cell_type": "markdown",
   "id": "83717807-79b4-473c-95d2-a35a921c1aba",
   "metadata": {},
   "source": [
    "> **if skewed, use median for impute**\n",
    "\n",
    "> **if normal dist, use mean**"
   ]
  },
  {
   "cell_type": "markdown",
   "id": "870f3031-47b5-482d-8d0d-49b621f8418e",
   "metadata": {},
   "source": [
    "#### Detect Outliers"
   ]
  },
  {
   "cell_type": "markdown",
   "id": "9648b1b1-0b08-4e08-9194-44d35011bbed",
   "metadata": {},
   "source": [
    "> **Z-Scores - generally only safe with normal distributions**"
   ]
  },
  {
   "cell_type": "code",
   "execution_count": null,
   "id": "7151c5db-5551-4664-aa4c-283599251bd0",
   "metadata": {},
   "outputs": [],
   "source": [
    "import scipy.stats as stats\n",
    "\n",
    "df['new_col_zscore'] = stats.zscore(test_data['colname']\n",
    "                                    \n",
    "# Then run a histogram on the new zscore column to easily view outliers"
   ]
  },
  {
   "cell_type": "markdown",
   "id": "ea895470-458d-4c21-97c0-6a77c72efa31",
   "metadata": {},
   "source": [
    "> **Boxplots great for finding ranges and outliers**"
   ]
  },
  {
   "cell_type": "code",
   "execution_count": null,
   "id": "dd07e382-3055-4e3d-9ccc-0bb4bed4b426",
   "metadata": {},
   "outputs": [],
   "source": [
    "import seaborn as sb\n",
    "\n",
    "boxplot - sb.boxplot(x='col_name', data=df)"
   ]
  },
  {
   "cell_type": "markdown",
   "id": "06304beb-8cde-4ce9-8862-299578bc2e39",
   "metadata": {},
   "source": [
    "> **Histograms can help visually identify outliers**"
   ]
  },
  {
   "cell_type": "code",
   "execution_count": null,
   "id": "34c84d4b-b3e8-45f6-bf7f-c341be63a088",
   "metadata": {},
   "outputs": [],
   "source": [
    "import matplotlib.pyplot as plt\n",
    "\n",
    "plt.hist();"
   ]
  },
  {
   "cell_type": "markdown",
   "id": "32ab1439-1203-4484-b410-879d2e91196a",
   "metadata": {},
   "source": [
    "> You need to know volume (HOW MANY?) and value of them. From there you can specify what actions to take on them:\n",
    "> Remove/Retain/Exclude/Replace\n"
   ]
  },
  {
   "cell_type": "markdown",
   "id": "b467523e-d2db-42b9-aa37-08658ff7f451",
   "metadata": {},
   "source": [
    "#### Part II:\n",
    "1) Examine ENTIRE dataset (every column, all values)\n",
    "2) Detection of:\n",
    "   - a) Duplicates\n",
    "   - b) Missing Values\n",
    "   - c) Outliers (check for outliers in ALL numeric variables)\n",
    "\n",
    "#### Part III:\n",
    "3) Treatment of:\n",
    "   - a) Duplicates\n",
    "   - b) Missing Values\n",
    "   - c) Outliers (check for outliers in ALL numeric variables)\n",
    "4) Re-express Categorical variables\n",
    "5) Perform PCA (numeric only)\n",
    "6) Extract clean dataset once cleaning is complete"
   ]
  },
  {
   "cell_type": "code",
   "execution_count": null,
   "id": "b1bcab71-9292-489b-83bc-82ecc3eeab6b",
   "metadata": {},
   "outputs": [],
   "source": []
  },
  {
   "cell_type": "markdown",
   "id": "15a193e2-e9cc-4c99-a7c7-8b9df3d56929",
   "metadata": {},
   "source": [
    "[(return to TOC)](#toc)\n",
    "# Part III: Data Cleaning <a name=\"pt3\"></a> \n",
    "## D. Summarize the data-cleaning process by doing the following:"
   ]
  },
  {
   "cell_type": "markdown",
   "id": "72b37136-e42a-4d42-86df-b93a52c1dcf7",
   "metadata": {},
   "source": [
    "### D1. Discussion of Findings <a name=\"d1\"></a> \n",
    "Describe the findings, including all anomalies, from the implementation of the data-cleaning plan & code run from part C.\n",
    "\n",
    "**Discuss what you found after you checked for missing values, outliers, etc.  For example, which variables did you find missing values? How many values were missing? What variables did you find outliers? How many outliers did you find?  What were the values of those outliers?!**"
   ]
  },
  {
   "cell_type": "markdown",
   "id": "a17a4aae-651d-489b-a91b-52d24601d67e",
   "metadata": {},
   "source": [
    "| Column             | Findings                             |\n",
    "|:--------------------|:----------------------------------------|"
   ]
  },
  {
   "cell_type": "markdown",
   "id": "8225be60-0bde-4361-87e4-38fbf554b440",
   "metadata": {},
   "source": [
    "### D2. Treatment Methods and Justification <a name=\"d2\"></a> \n",
    "Justify your methods for mitigating each type of discovered anomaly in the data set. *The justification includes the specific mitigation methods for each type of anomaly listed in part D1.*\n",
    "\n",
    "**Discuss how you treated the data quality issues you referenced in D1.  Discuss why you used the treatment methods you selected.  Use credible sources (i.e. course textbook) to support your why. Be very specific on why and how you treated each variable in which you found data quality concerns. Use visualizations as the evaluators are only reviewing the Panopto video to ensure code functionality.**"
   ]
  },
  {
   "cell_type": "markdown",
   "id": "e89acdbc-21ee-4cdc-bbf5-5f18c722725c",
   "metadata": {},
   "source": [
    "| Column       | Mitigation            | Justification   |\n",
    "|--------------|:-----------------------|:--------------------\n"
   ]
  },
  {
   "cell_type": "markdown",
   "id": "9a30829f-c853-4ee1-9e2b-3ba209b5c7ae",
   "metadata": {},
   "source": [
    "### D3. Summary of Treatment <a name=\"d3\"></a> \n",
    "Summarize the outcome from the implementation of each data-cleaning step. Discuss HOW and WHY of your treatment. *The summary details the outcome from the implementation of each data-cleaning step. The summarized expected outcomes are plausible given the interventions.*\n",
    "\n",
    "**Summarize all the work that was performed.  Discuss how your data looks now that it has been treated.  Provide evidence and visualizations confirming the data is cleaned**"
   ]
  },
  {
   "cell_type": "markdown",
   "id": "ff27bd97-0274-4a9c-8527-97648ef6c087",
   "metadata": {},
   "source": [
    "### D4. Treatment Code <a name=\"d4\"></a> \n",
    "Provide the complete and executable code used to mitigate anomalies."
   ]
  },
  {
   "cell_type": "markdown",
   "id": "bc19c8e0-6c84-40a2-8aa2-203b879afd07",
   "metadata": {},
   "source": [
    "### D5. Clean Dataset <a name=\"d5\"></a> \n",
    "Provide a copy of the cleaned data set. *The submission includes a clean data set created from the raw data. The provided data set includes the complete list of variables from the chosen data set in part A.*"
   ]
  },
  {
   "cell_type": "markdown",
   "id": "4c74a6fe-8286-45f2-8445-6046f92c91e9",
   "metadata": {},
   "source": [
    "### D6. Limitations <a name=\"d6\"></a> \n",
    "Summarize the limitations (cons) of the data-cleaning process.\n",
    "\n",
    "**Discuss the disadvantages of the methods you used to treat your data that you referenced in D2.**"
   ]
  },
  {
   "cell_type": "markdown",
   "id": "1dfd9678-2706-49cc-8f14-7c228f79e6a8",
   "metadata": {},
   "source": [
    "### D7. Implications <a name=\"d7\"></a> \n",
    "Discuss how the limitations in part D6 affect the analysis of the question or decision from part A. *The submission includes a discussion of the impact of the limitations from part D6. The discussion logically aligns with the question or decision from part A.*\n",
    "\n",
    "**Discuss what challenges a data analyst may encounter if they were to use your now cleaned data for analysis.**"
   ]
  },
  {
   "cell_type": "markdown",
   "id": "e04884af-064c-4bdc-ac23-3d7da76b0d6a",
   "metadata": {},
   "source": [
    "[(return to TOC)](#toc)\n",
    "## E. Apply principal component analysis (PCA) to identify the significant features of the data set by doing the following:"
   ]
  },
  {
   "cell_type": "markdown",
   "id": "8626f402-fac0-4b18-b5fe-36a3bf5fc7e2",
   "metadata": {},
   "source": [
    "### E1. Variables and PCA Loadings <a name=\"e1\"></a> \n",
    "List *ALL* the principal components in the data set.\n",
    "**Include the variables used for PCA and the output of the PCA loadings.**"
   ]
  },
  {
   "cell_type": "markdown",
   "id": "08a6cc28-8952-4126-a33a-36063d49b523",
   "metadata": {},
   "source": [
    "### E2. PCs Selection <a name=\"e2\"></a> \n",
    "Describe how you identified the principal components of the data set. **Discuss which PCs should be kept and why (i.e. scree plot).**"
   ]
  },
  {
   "cell_type": "markdown",
   "id": "2796fe37-16cc-4e23-ae47-1fdae833d49b",
   "metadata": {},
   "source": [
    "### E3. Benefits <a name=\"e3\"></a> \n",
    "Describe how the organization can benefit from the results of the PCA. **Discuss the benefit of PCA.**"
   ]
  },
  {
   "cell_type": "markdown",
   "id": "a01e8dea-bc55-457c-83bf-538bd60b9f5e",
   "metadata": {},
   "source": [
    "[(return to TOC)](#toc)\n",
    "# Part IV: Supporting Documents <a name=\"pt4\"></a> "
   ]
  },
  {
   "cell_type": "markdown",
   "id": "20c8489a-2dca-4b58-bf1e-add587b40135",
   "metadata": {},
   "source": [
    "## F. Video Demonstration of Code Functionality <a name=\"f\"></a> \n",
    "Provide a Panopto recording that demonstrates the warning- and error-free functionality of the code used to support the discovery of anomalies and the data cleaning process and summarizes the programming environment."
   ]
  },
  {
   "cell_type": "markdown",
   "id": "1c1be7da-722e-4458-a8a4-a96d14c4222b",
   "metadata": {},
   "source": [
    "## G. Acknowledge Sources <a name=\"g\"></a>\n",
    "Acknowledge sources, using in-text citations and references, for content that is quoted, paraphrased, or summarized.\n",
    "\n",
    "Reference the web sources used to acquire segments of third-party code to support the application. Be sure the web sources are reliable.\n",
    "\n"
   ]
  },
  {
   "cell_type": "markdown",
   "id": "46db5227-85df-4c7f-8223-754ee2b574cf",
   "metadata": {},
   "source": [
    "- Chaudhari, A. (2021, November 3). Categorical data vs Numerical data. Voxco. Retrieved April 19, 2022, from https://www.voxco.com/blog/categorical-data-vs-numerical-data/"
   ]
  },
  {
   "cell_type": "markdown",
   "id": "f44b40ae-1e5d-4b62-a906-a8234ba757b9",
   "metadata": {},
   "source": [
    "- How do I select a subset of a DataFrame? (n.d.). Pandas 1.4.2 Documentation. Retrieved April 19, 2022, from https://pandas.pydata.org/docs/getting_started/intro_tutorials/03_subset_data.html"
   ]
  },
  {
   "cell_type": "markdown",
   "id": "544a5738-f0bc-4e94-ad07-2df2a92d6cf8",
   "metadata": {},
   "source": [
    "- Larose, C. D., & Larose, D. T. (2019). Data Science Using Python and R (Wiley Series on Methods and Applications in Data Mining) (1st ed.) [E-book]. Wiley."
   ]
  },
  {
   "cell_type": "markdown",
   "id": "09704a46-76e9-4842-a792-2688e39b9553",
   "metadata": {},
   "source": []
  },
  {
   "cell_type": "markdown",
   "id": "64915e3b-c298-4c50-b210-93381c4b7dac",
   "metadata": {},
   "source": []
  },
  {
   "cell_type": "code",
   "execution_count": null,
   "id": "0fb30d58-f301-4b7c-84fb-71ae94e0cba7",
   "metadata": {},
   "outputs": [],
   "source": [
    "!jupyter nbconvert --to html D206-Final.ipynb"
   ]
  }
 ],
 "metadata": {
  "kernelspec": {
   "display_name": "Python 3 (ipykernel)",
   "language": "python",
   "name": "python3"
  },
  "language_info": {
   "codemirror_mode": {
    "name": "ipython",
    "version": 3
   },
   "file_extension": ".py",
   "mimetype": "text/x-python",
   "name": "python",
   "nbconvert_exporter": "python",
   "pygments_lexer": "ipython3",
   "version": "3.9.7"
  }
 },
 "nbformat": 4,
 "nbformat_minor": 5
}
