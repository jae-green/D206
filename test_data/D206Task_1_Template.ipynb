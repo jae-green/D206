{
 "cells": [
  {
   "cell_type": "markdown",
   "id": "34ceb99f-f434-4ad2-93cd-22850a060bf3",
   "metadata": {},
   "source": [
    "\n",
    "\n"
   ]
  },
  {
   "cell_type": "markdown",
   "id": "4eb14692-e4ce-4fe5-b61b-55d4adc4590b",
   "metadata": {},
   "source": [
    "\n",
    "\n"
   ]
  },
  {
   "cell_type": "markdown",
   "id": "9a89b5b5-85f9-4161-8279-825547262ad0",
   "metadata": {
    "tags": []
   },
   "source": [
    "\n",
    "# **<center>D206 NUM2 Task 1: Data Cleaning<center>**\n",
    "    "
   ]
  },
  {
   "cell_type": "markdown",
   "id": "57dc3d53-994e-4ca5-b4ac-09a309086338",
   "metadata": {},
   "source": [
    "Name  \n",
    "ID:  \n",
    "Mentor:  \n",
    "Mentorphone    \n",
    "mentor@wgu.edu  \n",
    "February 1, 2022  "
   ]
  },
  {
   "cell_type": "markdown",
   "id": "91f6ee8d-de2f-49c5-88a8-c6ea84ea5031",
   "metadata": {},
   "source": [
    "### Part I: Research Question"
   ]
  },
  {
   "cell_type": "markdown",
   "id": "8b05d2b2-aa39-4967-a9d4-f2f1bf1cf31a",
   "metadata": {},
   "source": [
    "#### A. Question:  \n",
    "text"
   ]
  },
  {
   "cell_type": "markdown",
   "id": "ee3c45be-49c5-4577-8d56-aa4e884d66a5",
   "metadata": {},
   "source": [
    "#### B.  Describe the variables in the data set and indicate the specific type of data being described.  "
   ]
  },
  {
   "cell_type": "markdown",
   "id": "284968ed-630e-4a70-8fda-e1a8059865d8",
   "metadata": {},
   "source": [
    "Table with variables    \n",
    "    \n",
    "    \n",
    "|  Name |  Data Type |  Variable Type|Description |  #Unique | Example/Range  |\n",
    "|:---|:---|:---|:---|---:|---:|\n",
    "\n"
   ]
  },
  {
   "cell_type": "markdown",
   "id": "3276217e-df14-4b29-a0d3-8ad705a9f353",
   "metadata": {},
   "source": [
    "### Part II: Data-Cleaning Plan"
   ]
  },
  {
   "cell_type": "markdown",
   "id": "266cb5a3-0604-4c29-ad00-b4177f3d86fd",
   "metadata": {},
   "source": [
    "#### C.1.  Propose a plan that includes the relevant techniques and specific steps needed to identify anomalies in the data set. "
   ]
  },
  {
   "cell_type": "markdown",
   "id": "d49b4d55-2c5c-4003-a743-05ccaefe1444",
   "metadata": {},
   "source": [
    "text"
   ]
  },
  {
   "cell_type": "markdown",
   "id": "08945045-8a96-4e72-a05b-f6a8db900c57",
   "metadata": {},
   "source": [
    "numbered list of steps"
   ]
  },
  {
   "cell_type": "markdown",
   "id": "a54957aa-9436-4c1d-b0b0-fda4f162b017",
   "metadata": {},
   "source": [
    "#### C.2.  Justify your approach for assessing the quality of the data."
   ]
  },
  {
   "cell_type": "markdown",
   "id": "d845d713-8f08-4535-887e-a06125824864",
   "metadata": {},
   "source": [
    "text\n",
    "\n"
   ]
  },
  {
   "cell_type": "markdown",
   "id": "d418cd5f-c2bb-4f04-b1ba-afe84f187ec5",
   "metadata": {},
   "source": [
    "Table    \n",
    "\n",
    "|  Anomaly    | Strategy    | Objective     | Technique     |\n",
    "|------------|-----------|-----------|------------------|\n"
   ]
  },
  {
   "cell_type": "markdown",
   "id": "037b4b3a-50e4-458c-8a33-cee1420ed374",
   "metadata": {},
   "source": [
    "#### C.3.  Justify your selected programming language and any libraries and packages that will support\tthe data-cleaning process. "
   ]
  },
  {
   "cell_type": "markdown",
   "id": "9c335a87-d373-4da4-96a7-c9b423dae324",
   "metadata": {},
   "source": [
    "text"
   ]
  },
  {
   "cell_type": "markdown",
   "id": "9392270f-e66f-40ec-a7a7-90053beeb5ef",
   "metadata": {},
   "source": [
    "table   \n",
    "   \n",
    "| Library                      | Application                                                             |\n",
    "|------------------------------|-------------------------------------------------------------------------|\n"
   ]
  },
  {
   "cell_type": "markdown",
   "id": "d6e56d81-d4c0-4e9f-81a2-643824ba5bfa",
   "metadata": {},
   "source": [
    "#### C.4.  Provide the code you will use to identify the anomalies in the data."
   ]
  },
  {
   "cell_type": "code",
   "execution_count": null,
   "id": "cadde9ab-be6e-4e40-b526-829d200e2cd3",
   "metadata": {},
   "outputs": [],
   "source": []
  },
  {
   "cell_type": "markdown",
   "id": "7a2fa939-f40c-49f7-8d5a-c52e9c064099",
   "metadata": {
    "tags": []
   },
   "source": [
    "#### Examine DataFrame"
   ]
  },
  {
   "cell_type": "code",
   "execution_count": null,
   "id": "435389f7-db27-45bb-8944-4a2291876fa4",
   "metadata": {},
   "outputs": [],
   "source": []
  },
  {
   "cell_type": "markdown",
   "id": "c31af890-7154-4494-a0ad-b0e78c343521",
   "metadata": {},
   "source": [
    "#### Re-expression of Categorical Variables"
   ]
  },
  {
   "cell_type": "markdown",
   "id": "018ca1f8-846d-4292-b034-4fded90b792a",
   "metadata": {},
   "source": [
    "#### Missing Values"
   ]
  },
  {
   "cell_type": "markdown",
   "id": "0b971422-9942-4d05-be62-214bf2cbbf63",
   "metadata": {},
   "source": [
    "### Part III: Data Cleaning"
   ]
  },
  {
   "cell_type": "markdown",
   "id": "ca4b50bc-2b05-440c-87a1-9036976b36c8",
   "metadata": {},
   "source": [
    "#### D.1.  Describe the findings, including all anomalies, from the implementation of the data-cleaning plan from part C. "
   ]
  },
  {
   "cell_type": "markdown",
   "id": "8d3e7bef-6628-4ecb-a2b0-ed944da74f64",
   "metadata": {},
   "source": [
    "Table   \n",
    "   \n",
    "| Column             | Findings                             |\n",
    "|:--------------------|:----------------------------------------|\n"
   ]
  },
  {
   "cell_type": "markdown",
   "id": "86878051-1558-48d8-a748-4400269f1052",
   "metadata": {},
   "source": [
    "#### D.2.  Justify your methods for mitigating each type of discovered anomaly in the data set. "
   ]
  },
  {
   "cell_type": "markdown",
   "id": "14d8f27f-1b1a-4d64-a556-6100e9e8c2f9",
   "metadata": {},
   "source": [
    "table   \n",
    "\n",
    "| Column       | Mitigation            | Justification   |\n",
    "|--------------|:-----------------------|:--------------------\n"
   ]
  },
  {
   "cell_type": "markdown",
   "id": "6796e6e9-9abc-4983-90c3-500591aa3887",
   "metadata": {},
   "source": [
    "#### D.3.  Summarize the outcome from the implementation of each data-cleaning step. "
   ]
  },
  {
   "cell_type": "markdown",
   "id": "b2d79b3d-ff94-41b0-af37-d3a6e33f7a17",
   "metadata": {},
   "source": [
    "Numbered list"
   ]
  },
  {
   "cell_type": "markdown",
   "id": "5d808dd6-c1f2-4149-b4de-ef7ea5e2fa0d",
   "metadata": {},
   "source": [
    "#### D.4.  Provide the code used to mitigate anomalies. "
   ]
  },
  {
   "cell_type": "markdown",
   "id": "a1ecb86f-8f01-4244-b443-c2aa60fda6f3",
   "metadata": {
    "tags": []
   },
   "source": [
    "#### Impute Missing Variables"
   ]
  },
  {
   "cell_type": "code",
   "execution_count": null,
   "id": "b4742d56-6982-4b89-b509-a7b99dc09bc6",
   "metadata": {},
   "outputs": [],
   "source": []
  },
  {
   "cell_type": "markdown",
   "id": "c608ee51-f71a-4b3c-9656-a40535d7ca74",
   "metadata": {},
   "source": [
    "#### D.5.  Provide a copy of the cleaned data set. "
   ]
  },
  {
   "cell_type": "code",
   "execution_count": null,
   "id": "4cc88112-7325-4252-bd08-91760772c607",
   "metadata": {},
   "outputs": [],
   "source": []
  },
  {
   "cell_type": "markdown",
   "id": "6a8f6e07-295b-49ee-8c77-b9b1f4cd3702",
   "metadata": {},
   "source": [
    "#### D.6.  Summarize the limitations of the data-cleaning process. "
   ]
  },
  {
   "cell_type": "markdown",
   "id": "d5c4228f-9406-425a-afb1-a12dc1fcaea2",
   "metadata": {
    "jupyter": {
     "outputs_hidden": true
    }
   },
   "source": [
    "text"
   ]
  },
  {
   "cell_type": "markdown",
   "id": "c698be41-0aa8-4aa7-b497-6ab4ea93ce98",
   "metadata": {},
   "source": [
    "#### D.7.  Discuss how the limitations in part D6 affect the analysis of the question or decision from part A."
   ]
  },
  {
   "cell_type": "markdown",
   "id": "5936b4d3-3009-489c-8409-148598d55ecc",
   "metadata": {
    "jupyter": {
     "outputs_hidden": true
    }
   },
   "source": [
    "text"
   ]
  },
  {
   "cell_type": "markdown",
   "id": "14d5dc75-5bca-4faa-994b-8fdf58a42937",
   "metadata": {},
   "source": [
    "#### E.  Apply principal component analysis (PCA) to identify the significant features of the data set by doing the following:"
   ]
  },
  {
   "cell_type": "markdown",
   "id": "77fa3772-e208-4d7c-9fee-b01e84bf9bd4",
   "metadata": {},
   "source": [
    "#### E.1.  List the principal components in the data set. "
   ]
  },
  {
   "cell_type": "markdown",
   "id": "61820885-fa77-42cb-9cc6-f88cace373b8",
   "metadata": {
    "jupyter": {
     "outputs_hidden": true
    }
   },
   "source": [
    "text"
   ]
  },
  {
   "cell_type": "markdown",
   "id": "85b3281e-b919-49a2-8d66-7aac7892f995",
   "metadata": {},
   "source": [
    "#### E.2.  Describe how you identified the principal components of the data set. "
   ]
  },
  {
   "cell_type": "markdown",
   "id": "ebece1af-2223-4e5d-bfda-ceb2255c5278",
   "metadata": {},
   "source": [
    "text"
   ]
  },
  {
   "cell_type": "markdown",
   "id": "9b279c4e-e5d4-44a3-b682-76006e755ec2",
   "metadata": {},
   "source": [
    "#### E.3 Describe how the organization can benefit from the results of the PCA"
   ]
  },
  {
   "cell_type": "markdown",
   "id": "e5abcdf2-1815-4815-baa2-8bad434761ab",
   "metadata": {},
   "source": [
    "text"
   ]
  },
  {
   "cell_type": "code",
   "execution_count": null,
   "id": "00009de0-06bc-4501-9cec-4190e8fe9bf3",
   "metadata": {},
   "outputs": [],
   "source": []
  },
  {
   "cell_type": "markdown",
   "id": "c043e567-2157-4c05-8503-7991f12a0541",
   "metadata": {},
   "source": [
    "### Part IV. Supporting Documents"
   ]
  },
  {
   "cell_type": "markdown",
   "id": "f63c2e35-8074-47c2-b235-7ce676da3b64",
   "metadata": {},
   "source": [
    "#### F.  Provide a Panopto recording that demonstrates the warning- and error-free functionality of the code used to support the discovery of anomalies and the data cleaning process and summarizes the programming environment."
   ]
  },
  {
   "cell_type": "markdown",
   "id": "8fd26cc8-b8df-44b6-821a-26eadcc1dd35",
   "metadata": {},
   "source": [
    "link"
   ]
  },
  {
   "cell_type": "markdown",
   "id": "bfd791bb-f432-41fd-a5a1-fdd8e71b8eda",
   "metadata": {},
   "source": [
    "#### G. Reference the web sources used to acquire segments of third-party code to support the application."
   ]
  },
  {
   "cell_type": "markdown",
   "id": "7b1a216b-53ac-4b61-ab47-399fd7d2e531",
   "metadata": {},
   "source": [
    "links"
   ]
  },
  {
   "cell_type": "markdown",
   "id": "7bbea120-2c88-487e-b621-a1f285568eef",
   "metadata": {},
   "source": [
    "#### H. Sources"
   ]
  },
  {
   "cell_type": "markdown",
   "id": "e2e86eff-9b04-419a-8d59-9d98bdf6e994",
   "metadata": {},
   "source": [
    "text"
   ]
  }
 ],
 "metadata": {
  "kernelspec": {
   "display_name": "Python 3 (ipykernel)",
   "language": "python",
   "name": "python3"
  },
  "language_info": {
   "codemirror_mode": {
    "name": "ipython",
    "version": 3
   },
   "file_extension": ".py",
   "mimetype": "text/x-python",
   "name": "python",
   "nbconvert_exporter": "python",
   "pygments_lexer": "ipython3",
   "version": "3.9.7"
  },
  "toc-autonumbering": false,
  "toc-showcode": false,
  "toc-showmarkdowntxt": false,
  "toc-showtags": false
 },
 "nbformat": 4,
 "nbformat_minor": 5
}
