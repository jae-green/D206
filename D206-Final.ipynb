{
 "cells": [
  {
   "cell_type": "markdown",
   "id": "605912e3-a29f-49e8-8e4c-6afbc25a07c3",
   "metadata": {
    "tags": []
   },
   "source": [
    "<table>\n",
    "<tr><td>&nbsp;</td></tr>\n",
    "</table>\n",
    "<table>\n",
    "<tr><td>&nbsp;</td></tr>\n",
    "</table>\n",
    "<center><h1><u>Report Title</u></h1></center>\n",
    "<br>    <center><h3>Jessa Green</h3></center>\n",
    "    <center><h4>SID# 71314</h4></center>\n",
    "    <center><h4>Western Governors University</h4></center>\n",
    "    \n",
    "<table>\n",
    "<tr><td>&nbsp;</td></tr>\n",
    "</table>\n",
    "<table>\n",
    "<tr><td>&nbsp;</td></tr>\n",
    "</table>\n",
    "<table>\n",
    "<tr><td>&nbsp;</td></tr>\n",
    "</table>"
   ]
  },
  {
   "cell_type": "markdown",
   "id": "351bbd2f-941f-475c-9bb1-2027544ec3fc",
   "metadata": {
    "tags": []
   },
   "source": [
    "# Table of Contents <a name=\"toc\"></a>\n",
    "\n",
    "### Part I: [Research Question and Variables](#pt1)\n",
    "\n",
    "   - A. [Description of Research Question](#a)\n",
    "    \n",
    "   - B. [Description of Data Set Variables](#b)\n",
    " \n",
    "### Part II: [Data-Cleaning Plan](#pt2)\n",
    "\n",
    "   - C1. [Detection Methods](#c1)\n",
    "     \n",
    "   - C2. [Justification for Detection Methods](#c2)\n",
    "     \n",
    "   - C3. [Justification for Program Language](#c4)\n",
    "     \n",
    "   - C4. [Detection Code](#c4)\n",
    "     \n",
    "### Part III: [Data Cleaning Treatment](#pt3)\n",
    "\n",
    "   - D1. [Discussion of Findings](#d1)\n",
    "   \n",
    "   - D2. [Treatment Methods and Justification](#d2)\n",
    "   \n",
    "   - D3. [Summary of Treatment](#d3)\n",
    "   \n",
    "   - D4. [Treatment Code](#d4)\n",
    "   \n",
    "   - D5. [Clean Dataset](#d5)\n",
    "   \n",
    "   - D6. [Limitations](#d6)\n",
    "   \n",
    "   - D7. [Implications](#d7)\n",
    "   \n",
    "   - E1. [Variables and PCA Loadings](#e1)\n",
    "   \n",
    "   - E2. [PCs Selection](#e2)\n",
    "   \n",
    "   - E3. [Benefits](#e3)\n",
    "\n",
    "### Part IV: [Supporting Documents](#pt4)\n",
    "\n",
    "   - F. [Video Demonstration of Code Functionality](#f)\n",
    "   \n",
    "   - G. [Acknowledge Sources](#g)   "
   ]
  },
  {
   "cell_type": "markdown",
   "id": "6f6dbcd3-9423-42f7-aee0-b387e3fc8688",
   "metadata": {},
   "source": [
    "# Part I: Research Question And Variables  <a name=\"pt1\"></a> "
   ]
  },
  {
   "cell_type": "markdown",
   "id": "63825da4-8310-4597-a966-42f9ff79f1c0",
   "metadata": {},
   "source": [
    "## A. Description of Research Question <a name=\"a\"></a> \n",
    "Describe one question or decision that you will address using the data set you chose. The summarized question or decision must be relevant to a realistic organizational need or situation.\n",
    "\n",
    "*The description states a question or decision that can be addressed through analysis of the chosen data set. The question or decision is relevant to a realistic organizational need or situation.*"
   ]
  },
  {
   "cell_type": "code",
   "execution_count": null,
   "id": "bbd74293-aec4-4f60-ac75-82fc90f0e291",
   "metadata": {},
   "outputs": [],
   "source": []
  },
  {
   "cell_type": "markdown",
   "id": "6ef2220d-f494-433f-ab1d-e07762bdf573",
   "metadata": {},
   "source": [
    "## B. Description of Data Set Variables <a name=\"b\"></a> \n",
    "Describe the variables in the data set and indicate the specific type of data being described. Use examples from the data set that support your claims.\n",
    "\n",
    "*The description includes the variables in the data set and indicates the specific type of data being described, and includes examples from the data set to support claims.*"
   ]
  },
  {
   "cell_type": "code",
   "execution_count": null,
   "id": "6e1faea4-e582-4cce-bb03-c7bb9ecc9c63",
   "metadata": {},
   "outputs": [],
   "source": []
  },
  {
   "cell_type": "markdown",
   "id": "9d88b9c8-8c7e-4d5c-8735-26c3f73d4ab5",
   "metadata": {},
   "source": [
    "[(return to TOC)](#toc)\n",
    "# Part II: Data-Cleaning Plan  <a name=\"pt2\"></a> \n",
    "## C. Explain the plan for cleaning the data by doing the following:"
   ]
  },
  {
   "cell_type": "markdown",
   "id": "c080f7a4-6b3d-4ec2-a89b-d3453fb9e32e",
   "metadata": {},
   "source": [
    "### C1. Detection Methods <a name=\"c1\"></a> \n",
    "Propose a plan that includes the relevant techniques and specific steps needed to identify anomalies in the data set.\n",
    "\n",
    "*The proposal includes a detailed description of the techniques and steps needed for identifying anomalies in the selected data set.*"
   ]
  },
  {
   "cell_type": "markdown",
   "id": "3be6bab6-d08a-4f52-bfe0-6930d524ae3e",
   "metadata": {},
   "source": [
    "### C2. Justification for Detection Methods <a name=\"c2\"></a> \n",
    "Justify your approach for assessing the quality of the data, include:\n",
    "\n",
    "•  characteristics of the data being assessed\n",
    "\n",
    "•  the approach used to assess the quality of the data\n",
    "\n",
    "•  ensure approach aligns with this data set"
   ]
  },
  {
   "cell_type": "markdown",
   "id": "326948cd-b16a-4d1e-9fe3-972b5efa6f15",
   "metadata": {},
   "source": [
    "### C3. Justification for Program Language <a name=\"c3\"></a> \n",
    "Justify your selected programming language and any libraries and packages that will support the data-cleaning process.\n",
    "\n",
    "*The justification describes the benefits of using the programming language, including any libraries and packages used to clean the data, and includes specific examples of how these tools are ideal in this scenario as opposed to other available tools.*\n"
   ]
  },
  {
   "cell_type": "markdown",
   "id": "c76d4f81-231c-4a29-92d1-3d403130cb14",
   "metadata": {},
   "source": [
    "### C4. Detection Code <a name=\"c4\"></a> \n",
    "Provide the complete and executable code you will use to identify the anomalies in the data."
   ]
  },
  {
   "cell_type": "markdown",
   "id": "15a193e2-e9cc-4c99-a7c7-8b9df3d56929",
   "metadata": {},
   "source": [
    "[(return to TOC)](#toc)\n",
    "# Part III: Data Cleaning <a name=\"pt3\"></a> \n",
    "## D. Summarize the data-cleaning process by doing the following:"
   ]
  },
  {
   "cell_type": "markdown",
   "id": "72b37136-e42a-4d42-86df-b93a52c1dcf7",
   "metadata": {},
   "source": [
    "### D1. Discussion of Findings <a name=\"d1\"></a> \n",
    "Describe the findings, including all anomalies, from the implementation of the data-cleaning plan & code run from part C."
   ]
  },
  {
   "cell_type": "markdown",
   "id": "8225be60-0bde-4361-87e4-38fbf554b440",
   "metadata": {},
   "source": [
    "### D2. Treatment Methods and Justification <a name=\"d2\"></a> \n",
    "Justify your methods for mitigating each type of discovered anomaly in the data set.\n",
    "\n",
    "*The justification includes the specific mitigation methods for each type of anomaly listed in part D1.*"
   ]
  },
  {
   "cell_type": "markdown",
   "id": "9a30829f-c853-4ee1-9e2b-3ba209b5c7ae",
   "metadata": {},
   "source": [
    "### D3. Summary of Treatment <a name=\"d3\"></a> \n",
    "Summarize the outcome from the implementation of each data-cleaning step.\n",
    "\n",
    "*The summary details the outcome from the implementation of each data-cleaning step. The summarized expected outcomes are plausible given the interventions.*"
   ]
  },
  {
   "cell_type": "markdown",
   "id": "ff27bd97-0274-4a9c-8527-97648ef6c087",
   "metadata": {},
   "source": [
    "### D4. Treatment Code <a name=\"d4\"></a> \n",
    "Provide the complete and executable code used to mitigate anomalies."
   ]
  },
  {
   "cell_type": "markdown",
   "id": "bc19c8e0-6c84-40a2-8aa2-203b879afd07",
   "metadata": {},
   "source": [
    "### D5. Clean Dataset <a name=\"d5\"></a> \n",
    "Provide a copy of the cleaned data set.\n",
    "\n",
    "*The submission includes a clean data set created from the raw data. The provided data set includes the complete list of variables from the chosen data set in part A.*"
   ]
  },
  {
   "cell_type": "markdown",
   "id": "4c74a6fe-8286-45f2-8445-6046f92c91e9",
   "metadata": {},
   "source": [
    "### D6. Limitations <a name=\"d6\"></a> \n",
    "Summarize the limitations of the data-cleaning process."
   ]
  },
  {
   "cell_type": "markdown",
   "id": "1dfd9678-2706-49cc-8f14-7c228f79e6a8",
   "metadata": {},
   "source": [
    "### D7. Implications <a name=\"d7\"></a> \n",
    "Discuss how the limitations in part D6 affect the analysis of the question or decision from part A.\n",
    "\n",
    "*The submission includes a discussion of the impact of the limitations from part D6. The discussion logically aligns with the question or decision from part A.*"
   ]
  },
  {
   "cell_type": "markdown",
   "id": "e04884af-064c-4bdc-ac23-3d7da76b0d6a",
   "metadata": {},
   "source": [
    "[(return to TOC)](#toc)\n",
    "## E. Apply principal component analysis (PCA) to identify the significant features of the data set by doing the following:"
   ]
  },
  {
   "cell_type": "markdown",
   "id": "8626f402-fac0-4b18-b5fe-36a3bf5fc7e2",
   "metadata": {},
   "source": [
    "### E1. Variables and PCA Loadings <a name=\"e1\"></a> \n",
    "List *ALL* the principal components in the data set."
   ]
  },
  {
   "cell_type": "markdown",
   "id": "08a6cc28-8952-4126-a33a-36063d49b523",
   "metadata": {},
   "source": [
    "### E2. PCs Selection <a name=\"e2\"></a> \n",
    "Describe how you identified the principal components of the data set."
   ]
  },
  {
   "cell_type": "markdown",
   "id": "2796fe37-16cc-4e23-ae47-1fdae833d49b",
   "metadata": {},
   "source": [
    "### E3. Benefits <a name=\"e3\"></a> \n",
    "Describe how the organization can benefit from the results of the PCA."
   ]
  },
  {
   "cell_type": "markdown",
   "id": "a01e8dea-bc55-457c-83bf-538bd60b9f5e",
   "metadata": {},
   "source": [
    "[(return to TOC)](#toc)\n",
    "# Part IV: Supporting Documents <a name=\"pt4\"></a> "
   ]
  },
  {
   "cell_type": "markdown",
   "id": "20c8489a-2dca-4b58-bf1e-add587b40135",
   "metadata": {},
   "source": [
    "## F. Video Demonstration of Code Functionality <a name=\"f\"></a> \n",
    "Provide a Panopto recording that demonstrates the warning- and error-free functionality of the code used to support the discovery of anomalies and the data cleaning process and summarizes the programming environment."
   ]
  },
  {
   "cell_type": "markdown",
   "id": "1c1be7da-722e-4458-a8a4-a96d14c4222b",
   "metadata": {},
   "source": [
    "## G. Acknowledge Sources <a name=\"g\"></a>\n",
    "Acknowledge sources, using in-text citations and references, for content that is quoted, paraphrased, or summarized.\n",
    "\n",
    "Reference the web sources used to acquire segments of third-party code to support the application. Be sure the web sources are reliable.\n",
    "\n"
   ]
  }
 ],
 "metadata": {
  "kernelspec": {
   "display_name": "Python 3 (ipykernel)",
   "language": "python",
   "name": "python3"
  },
  "language_info": {
   "codemirror_mode": {
    "name": "ipython",
    "version": 3
   },
   "file_extension": ".py",
   "mimetype": "text/x-python",
   "name": "python",
   "nbconvert_exporter": "python",
   "pygments_lexer": "ipython3",
   "version": "3.9.7"
  }
 },
 "nbformat": 4,
 "nbformat_minor": 5
}
